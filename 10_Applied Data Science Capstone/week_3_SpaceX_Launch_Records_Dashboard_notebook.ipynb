{
  "nbformat": 4,
  "nbformat_minor": 0,
  "metadata": {
    "colab": {
      "name": "SpaceX_Launch_Records_Dashboard.ipynb",
      "provenance": [],
      "collapsed_sections": []
    },
    "kernelspec": {
      "name": "python3",
      "display_name": "Python 3"
    },
    "language_info": {
      "name": "python"
    }
  },
  "cells": [
    {
      "cell_type": "markdown",
      "metadata": {
        "id": "WwtzO9_MEOZs"
      },
      "source": [
        "# Import Libraries"
      ]
    },
    {
      "cell_type": "code",
      "metadata": {
        "id": "paNd1LHQEMmO",
        "colab": {
          "base_uri": "https://localhost:8080/"
        },
        "outputId": "9edcba60-6642-4790-c1ca-1d51ec2f83e4"
      },
      "source": [
        "# install `jupyter-dash` and restart runtime\n",
        "# https://github.com/plotly/jupyter-dash\n",
        "!pip install jupyter-dash"
      ],
      "execution_count": 1,
      "outputs": [
        {
          "output_type": "stream",
          "name": "stdout",
          "text": [
            "Collecting jupyter-dash\n",
            "  Downloading jupyter_dash-0.4.0-py3-none-any.whl (20 kB)\n",
            "Requirement already satisfied: ipython in /usr/local/lib/python3.7/dist-packages (from jupyter-dash) (5.5.0)\n",
            "Collecting dash\n",
            "  Downloading dash-2.0.0-py3-none-any.whl (7.3 MB)\n",
            "\u001b[K     |████████████████████████████████| 7.3 MB 4.3 MB/s \n",
            "\u001b[?25hRequirement already satisfied: requests in /usr/local/lib/python3.7/dist-packages (from jupyter-dash) (2.23.0)\n",
            "Requirement already satisfied: ipykernel in /usr/local/lib/python3.7/dist-packages (from jupyter-dash) (4.10.1)\n",
            "Requirement already satisfied: flask in /usr/local/lib/python3.7/dist-packages (from jupyter-dash) (1.1.4)\n",
            "Requirement already satisfied: retrying in /usr/local/lib/python3.7/dist-packages (from jupyter-dash) (1.3.3)\n",
            "Collecting ansi2html\n",
            "  Downloading ansi2html-1.6.0-py3-none-any.whl (14 kB)\n",
            "Collecting dash-table==5.0.0\n",
            "  Downloading dash_table-5.0.0.tar.gz (3.4 kB)\n",
            "Collecting dash-html-components==2.0.0\n",
            "  Downloading dash_html_components-2.0.0.tar.gz (3.8 kB)\n",
            "Collecting flask-compress\n",
            "  Downloading Flask_Compress-1.10.1-py3-none-any.whl (7.9 kB)\n",
            "Collecting plotly>=5.0.0\n",
            "  Downloading plotly-5.3.1-py2.py3-none-any.whl (23.9 MB)\n",
            "\u001b[K     |████████████████████████████████| 23.9 MB 13 kB/s \n",
            "\u001b[?25hCollecting dash-core-components==2.0.0\n",
            "  Downloading dash_core_components-2.0.0.tar.gz (3.4 kB)\n",
            "Requirement already satisfied: Werkzeug<2.0,>=0.15 in /usr/local/lib/python3.7/dist-packages (from flask->jupyter-dash) (1.0.1)\n",
            "Requirement already satisfied: click<8.0,>=5.1 in /usr/local/lib/python3.7/dist-packages (from flask->jupyter-dash) (7.1.2)\n",
            "Requirement already satisfied: Jinja2<3.0,>=2.10.1 in /usr/local/lib/python3.7/dist-packages (from flask->jupyter-dash) (2.11.3)\n",
            "Requirement already satisfied: itsdangerous<2.0,>=0.24 in /usr/local/lib/python3.7/dist-packages (from flask->jupyter-dash) (1.1.0)\n",
            "Requirement already satisfied: MarkupSafe>=0.23 in /usr/local/lib/python3.7/dist-packages (from Jinja2<3.0,>=2.10.1->flask->jupyter-dash) (2.0.1)\n",
            "Collecting tenacity>=6.2.0\n",
            "  Downloading tenacity-8.0.1-py3-none-any.whl (24 kB)\n",
            "Requirement already satisfied: six in /usr/local/lib/python3.7/dist-packages (from plotly>=5.0.0->dash->jupyter-dash) (1.15.0)\n",
            "Collecting brotli\n",
            "  Downloading Brotli-1.0.9-cp37-cp37m-manylinux1_x86_64.whl (357 kB)\n",
            "\u001b[K     |████████████████████████████████| 357 kB 67.1 MB/s \n",
            "\u001b[?25hRequirement already satisfied: tornado>=4.0 in /usr/local/lib/python3.7/dist-packages (from ipykernel->jupyter-dash) (5.1.1)\n",
            "Requirement already satisfied: jupyter-client in /usr/local/lib/python3.7/dist-packages (from ipykernel->jupyter-dash) (5.3.5)\n",
            "Requirement already satisfied: traitlets>=4.1.0 in /usr/local/lib/python3.7/dist-packages (from ipykernel->jupyter-dash) (5.0.5)\n",
            "Requirement already satisfied: pygments in /usr/local/lib/python3.7/dist-packages (from ipython->jupyter-dash) (2.6.1)\n",
            "Requirement already satisfied: pexpect in /usr/local/lib/python3.7/dist-packages (from ipython->jupyter-dash) (4.8.0)\n",
            "Requirement already satisfied: decorator in /usr/local/lib/python3.7/dist-packages (from ipython->jupyter-dash) (4.4.2)\n",
            "Requirement already satisfied: setuptools>=18.5 in /usr/local/lib/python3.7/dist-packages (from ipython->jupyter-dash) (57.4.0)\n",
            "Requirement already satisfied: pickleshare in /usr/local/lib/python3.7/dist-packages (from ipython->jupyter-dash) (0.7.5)\n",
            "Requirement already satisfied: simplegeneric>0.8 in /usr/local/lib/python3.7/dist-packages (from ipython->jupyter-dash) (0.8.1)\n",
            "Requirement already satisfied: prompt-toolkit<2.0.0,>=1.0.4 in /usr/local/lib/python3.7/dist-packages (from ipython->jupyter-dash) (1.0.18)\n",
            "Requirement already satisfied: wcwidth in /usr/local/lib/python3.7/dist-packages (from prompt-toolkit<2.0.0,>=1.0.4->ipython->jupyter-dash) (0.2.5)\n",
            "Requirement already satisfied: ipython-genutils in /usr/local/lib/python3.7/dist-packages (from traitlets>=4.1.0->ipykernel->jupyter-dash) (0.2.0)\n",
            "Requirement already satisfied: pyzmq>=13 in /usr/local/lib/python3.7/dist-packages (from jupyter-client->ipykernel->jupyter-dash) (22.2.1)\n",
            "Requirement already satisfied: jupyter-core>=4.6.0 in /usr/local/lib/python3.7/dist-packages (from jupyter-client->ipykernel->jupyter-dash) (4.7.1)\n",
            "Requirement already satisfied: python-dateutil>=2.1 in /usr/local/lib/python3.7/dist-packages (from jupyter-client->ipykernel->jupyter-dash) (2.8.2)\n",
            "Requirement already satisfied: ptyprocess>=0.5 in /usr/local/lib/python3.7/dist-packages (from pexpect->ipython->jupyter-dash) (0.7.0)\n",
            "Requirement already satisfied: chardet<4,>=3.0.2 in /usr/local/lib/python3.7/dist-packages (from requests->jupyter-dash) (3.0.4)\n",
            "Requirement already satisfied: idna<3,>=2.5 in /usr/local/lib/python3.7/dist-packages (from requests->jupyter-dash) (2.10)\n",
            "Requirement already satisfied: certifi>=2017.4.17 in /usr/local/lib/python3.7/dist-packages (from requests->jupyter-dash) (2021.5.30)\n",
            "Requirement already satisfied: urllib3!=1.25.0,!=1.25.1,<1.26,>=1.21.1 in /usr/local/lib/python3.7/dist-packages (from requests->jupyter-dash) (1.24.3)\n",
            "Building wheels for collected packages: dash-core-components, dash-html-components, dash-table\n",
            "  Building wheel for dash-core-components (setup.py) ... \u001b[?25l\u001b[?25hdone\n",
            "  Created wheel for dash-core-components: filename=dash_core_components-2.0.0-py3-none-any.whl size=3821 sha256=aaa4d556fe21b6321ea52db90c866c44864a450a6956c2d8f7f2709565bbf368\n",
            "  Stored in directory: /root/.cache/pip/wheels/00/f9/c7/1a6437d794ed753ea9bc9079e761d4fc803a1f1f5d3697b9ec\n",
            "  Building wheel for dash-html-components (setup.py) ... \u001b[?25l\u001b[?25hdone\n",
            "  Created wheel for dash-html-components: filename=dash_html_components-2.0.0-py3-none-any.whl size=4089 sha256=8e5592905490f4185c5959b33162802d6ab71e428674dd361b2b15bfb785f9e9\n",
            "  Stored in directory: /root/.cache/pip/wheels/ec/6b/81/05aceabd8b27f724e2c96784016287cc1bfbc349ebfda451de\n",
            "  Building wheel for dash-table (setup.py) ... \u001b[?25l\u001b[?25hdone\n",
            "  Created wheel for dash-table: filename=dash_table-5.0.0-py3-none-any.whl size=3911 sha256=ca6794750900900c5c9fc66d4701e6723725440143e5994745c7072cc07b5c6a\n",
            "  Stored in directory: /root/.cache/pip/wheels/85/5d/4e/7c276b57992951dbe770bf5caad6448d0539c510663aefd2e2\n",
            "Successfully built dash-core-components dash-html-components dash-table\n",
            "Installing collected packages: tenacity, brotli, plotly, flask-compress, dash-table, dash-html-components, dash-core-components, dash, ansi2html, jupyter-dash\n",
            "  Attempting uninstall: plotly\n",
            "    Found existing installation: plotly 4.4.1\n",
            "    Uninstalling plotly-4.4.1:\n",
            "      Successfully uninstalled plotly-4.4.1\n",
            "Successfully installed ansi2html-1.6.0 brotli-1.0.9 dash-2.0.0 dash-core-components-2.0.0 dash-html-components-2.0.0 dash-table-5.0.0 flask-compress-1.10.1 jupyter-dash-0.4.0 plotly-5.3.1 tenacity-8.0.1\n"
          ]
        }
      ]
    },
    {
      "cell_type": "code",
      "metadata": {
        "id": "2b19i9tl9kHz",
        "colab": {
          "base_uri": "https://localhost:8080/"
        },
        "outputId": "af638115-1a74-4c53-ba23-852b4b9528d2"
      },
      "source": [
        "import numpy as np\n",
        "import pandas as pd\n",
        "import plotly.express as px\n",
        "import dash\n",
        "import dash_html_components as html\n",
        "import dash_core_components as dcc\n",
        "from dash.dependencies import Input, Output\n",
        "from jupyter_dash import JupyterDash"
      ],
      "execution_count": 2,
      "outputs": [
        {
          "output_type": "stream",
          "name": "stderr",
          "text": [
            "/usr/local/lib/python3.7/dist-packages/ipykernel_launcher.py:5: UserWarning: \n",
            "The dash_html_components package is deprecated. Please replace\n",
            "`import dash_html_components as html` with `from dash import html`\n",
            "  \"\"\"\n",
            "/usr/local/lib/python3.7/dist-packages/ipykernel_launcher.py:6: UserWarning: \n",
            "The dash_core_components package is deprecated. Please replace\n",
            "`import dash_core_components as dcc` with `from dash import dcc`\n",
            "  \n"
          ]
        }
      ]
    },
    {
      "cell_type": "markdown",
      "metadata": {
        "id": "5YaTAVdHEXHO"
      },
      "source": [
        "# Download SpaceX Dataset"
      ]
    },
    {
      "cell_type": "code",
      "metadata": {
        "colab": {
          "base_uri": "https://localhost:8080/"
        },
        "id": "BYEtDFz991M5",
        "outputId": "eb30827f-8ece-4d3c-e0f1-e01a78ca9296"
      },
      "source": [
        "!wget \"https://cf-courses-data.s3.us.cloud-object-storage.appdomain.cloud/IBM-DS0321EN-SkillsNetwork/datasets/spacex_launch_dash.csv\""
      ],
      "execution_count": 3,
      "outputs": [
        {
          "output_type": "stream",
          "name": "stdout",
          "text": [
            "--2021-09-06 18:04:13--  https://cf-courses-data.s3.us.cloud-object-storage.appdomain.cloud/IBM-DS0321EN-SkillsNetwork/datasets/spacex_launch_dash.csv\n",
            "Resolving cf-courses-data.s3.us.cloud-object-storage.appdomain.cloud (cf-courses-data.s3.us.cloud-object-storage.appdomain.cloud)... 169.45.118.108\n",
            "Connecting to cf-courses-data.s3.us.cloud-object-storage.appdomain.cloud (cf-courses-data.s3.us.cloud-object-storage.appdomain.cloud)|169.45.118.108|:443... connected.\n",
            "HTTP request sent, awaiting response... 200 OK\n",
            "Length: 3033 (3.0K) [text/csv]\n",
            "Saving to: ‘spacex_launch_dash.csv’\n",
            "\n",
            "spacex_launch_dash. 100%[===================>]   2.96K  --.-KB/s    in 0s      \n",
            "\n",
            "2021-09-06 18:04:14 (275 MB/s) - ‘spacex_launch_dash.csv’ saved [3033/3033]\n",
            "\n"
          ]
        }
      ]
    },
    {
      "cell_type": "code",
      "metadata": {
        "id": "dodAUNpd_Pdp",
        "colab": {
          "base_uri": "https://localhost:8080/",
          "height": 204
        },
        "outputId": "2bfec179-de96-4d72-d19a-5e2fd45788f5"
      },
      "source": [
        "spacex_df = pd.read_csv(\"/content/spacex_launch_dash.csv\")\n",
        "spacex_df.head()"
      ],
      "execution_count": 4,
      "outputs": [
        {
          "output_type": "execute_result",
          "data": {
            "text/html": [
              "<div>\n",
              "<style scoped>\n",
              "    .dataframe tbody tr th:only-of-type {\n",
              "        vertical-align: middle;\n",
              "    }\n",
              "\n",
              "    .dataframe tbody tr th {\n",
              "        vertical-align: top;\n",
              "    }\n",
              "\n",
              "    .dataframe thead th {\n",
              "        text-align: right;\n",
              "    }\n",
              "</style>\n",
              "<table border=\"1\" class=\"dataframe\">\n",
              "  <thead>\n",
              "    <tr style=\"text-align: right;\">\n",
              "      <th></th>\n",
              "      <th>Unnamed: 0</th>\n",
              "      <th>Flight Number</th>\n",
              "      <th>Launch Site</th>\n",
              "      <th>Mission Outcome</th>\n",
              "      <th>class</th>\n",
              "      <th>Payload Mass (kg)</th>\n",
              "      <th>Booster Version</th>\n",
              "      <th>Booster Version Category</th>\n",
              "    </tr>\n",
              "  </thead>\n",
              "  <tbody>\n",
              "    <tr>\n",
              "      <th>0</th>\n",
              "      <td>0</td>\n",
              "      <td>1</td>\n",
              "      <td>CCAFS LC-40</td>\n",
              "      <td>Success</td>\n",
              "      <td>0</td>\n",
              "      <td>0.0</td>\n",
              "      <td>F9 v1.0  B0003</td>\n",
              "      <td>v1.0</td>\n",
              "    </tr>\n",
              "    <tr>\n",
              "      <th>1</th>\n",
              "      <td>1</td>\n",
              "      <td>2</td>\n",
              "      <td>CCAFS LC-40</td>\n",
              "      <td>Success</td>\n",
              "      <td>0</td>\n",
              "      <td>0.0</td>\n",
              "      <td>F9 v1.0  B0004</td>\n",
              "      <td>v1.0</td>\n",
              "    </tr>\n",
              "    <tr>\n",
              "      <th>2</th>\n",
              "      <td>2</td>\n",
              "      <td>3</td>\n",
              "      <td>CCAFS LC-40</td>\n",
              "      <td>Success</td>\n",
              "      <td>0</td>\n",
              "      <td>525.0</td>\n",
              "      <td>F9 v1.0  B0005</td>\n",
              "      <td>v1.0</td>\n",
              "    </tr>\n",
              "    <tr>\n",
              "      <th>3</th>\n",
              "      <td>3</td>\n",
              "      <td>4</td>\n",
              "      <td>CCAFS LC-40</td>\n",
              "      <td>Success</td>\n",
              "      <td>0</td>\n",
              "      <td>500.0</td>\n",
              "      <td>F9 v1.0  B0006</td>\n",
              "      <td>v1.0</td>\n",
              "    </tr>\n",
              "    <tr>\n",
              "      <th>4</th>\n",
              "      <td>4</td>\n",
              "      <td>5</td>\n",
              "      <td>CCAFS LC-40</td>\n",
              "      <td>Success</td>\n",
              "      <td>0</td>\n",
              "      <td>677.0</td>\n",
              "      <td>F9 v1.0  B0007</td>\n",
              "      <td>v1.0</td>\n",
              "    </tr>\n",
              "  </tbody>\n",
              "</table>\n",
              "</div>"
            ],
            "text/plain": [
              "   Unnamed: 0  Flight Number  ... Booster Version Booster Version Category\n",
              "0           0              1  ...  F9 v1.0  B0003                     v1.0\n",
              "1           1              2  ...  F9 v1.0  B0004                     v1.0\n",
              "2           2              3  ...  F9 v1.0  B0005                     v1.0\n",
              "3           3              4  ...  F9 v1.0  B0006                     v1.0\n",
              "4           4              5  ...  F9 v1.0  B0007                     v1.0\n",
              "\n",
              "[5 rows x 8 columns]"
            ]
          },
          "metadata": {},
          "execution_count": 4
        }
      ]
    },
    {
      "cell_type": "markdown",
      "metadata": {
        "id": "tp0sY8KwEbRQ"
      },
      "source": [
        "# Create a dash application"
      ]
    },
    {
      "cell_type": "code",
      "metadata": {
        "colab": {
          "base_uri": "https://localhost:8080/",
          "height": 671
        },
        "id": "wJ6HCI6LDKrN",
        "outputId": "8140897b-5835-4826-db61-a16e5175af71"
      },
      "source": [
        "external_stylesheets = ['https://codepen.io/chriddyp/pen/bWLwgP.css']\n",
        "\n",
        "# create a dash application\n",
        "app = JupyterDash(__name__, external_stylesheets=external_stylesheets)\n",
        "\n",
        "# clear the layout and do not display exception till callback gets executed\n",
        "app.config.suppress_callback_exceptions = True\n",
        "\n",
        "# create a list of all launch sites\n",
        "launch_sites = spacex_df['Launch Site'].unique().tolist()\n",
        "launch_sites.insert(0, 'All Sites')\n",
        "\n",
        "# payload min , max range\n",
        "payload_min, payload_max = spacex_df['Payload Mass (kg)'].min(), spacex_df['Payload Mass (kg)'].max()\n",
        "app.layout = html.Div(\n",
        "    children=[html.H1('SpaceX Launch Records Dashboard', style={'textAlign': 'center', 'color': '#503D36',\n",
        "                                                                'font-size': 40}),\n",
        "              \n",
        "              # https://dash.plotly.com/dash-core-components/dropdown\n",
        "              dcc.Dropdown(id='site-dropdown',\n",
        "                           options=[{'label': i, 'value': i} for i in launch_sites],\n",
        "                           value='All Sites',\n",
        "                           placeholder=\"Select a Launch Site here\",\n",
        "                           searchable=True),\n",
        "              html.Br(),\n",
        "\n",
        "              html.Div(dcc.Graph(id='success-pie-chart')),\n",
        "              html.Br(),\n",
        "\n",
        "              html.P(\"Payload range (Kg):\"),\n",
        "            \n",
        "              # https://dash.plotly.com/dash-core-components/rangeslider\n",
        "              dcc.RangeSlider(id='payload-slider', min=payload_min, max=10000,\n",
        "                              marks={\n",
        "                                  0: '0',\n",
        "                                  2500: '2500',\n",
        "                                  5000: '5000',\n",
        "                                  7500: '7500',\n",
        "                                  10000: '10000'\n",
        "                              },\n",
        "                              step=1000, value=[payload_min, payload_max]),\n",
        "              html.Br(),\n",
        "              html.Div(dcc.Graph(id='success-payload-scatter-chart')),\n",
        "              ])\n",
        "\n",
        "\n",
        "@app.callback(\n",
        "    Output(component_id='success-pie-chart', component_property='figure'),\n",
        "    Input(component_id='site-dropdown', component_property='value')\n",
        ")\n",
        "def get_pie_chart(entered_site):\n",
        "\n",
        "    # https://community.plotly.com/t/graph-if-empty-dropdown/7483/2\n",
        "    # leave callback Output unchanged\n",
        "    if entered_site is None:\n",
        "        raise Exception()\n",
        "\n",
        "    # to clear the graph\n",
        "    # if entered_site is None:\n",
        "    #     return {'data': []}\n",
        "\n",
        "    # https://plotly.com/python/pie-charts/\n",
        "    if entered_site == 'All Sites':\n",
        "        fig = px.pie(spacex_df, names=\"Launch Site\", values='class', title='Total Success Launches By Site')\n",
        "    else:\n",
        "        pie_filtered_df = spacex_df[spacex_df['Launch Site'] == entered_site]\n",
        "        fig = px.pie(pie_filtered_df, names=\"class\", title='Total Success Launches By Site')\n",
        "    return fig\n",
        "\n",
        "\n",
        "@app.callback(\n",
        "    Output(component_id='success-payload-scatter-chart', component_property='figure'),\n",
        "    [Input(component_id='site-dropdown', component_property='value'),\n",
        "     Input(component_id='payload-slider', component_property='value'), ]\n",
        ")\n",
        "def get_slider_chart(entered_site, payload_value):\n",
        "    # https://plotly.com/python/line-and-scatter/\n",
        "    if entered_site == 'All Sites':\n",
        "        slide_df = spacex_df[(spacex_df['Payload Mass (kg)'].between(left=payload_value[0], right=payload_value[1]))]\n",
        "        scatter_plot = px.scatter(slide_df, x=\"Payload Mass (kg)\", y=\"class\", color=\"Booster Version Category\",\n",
        "                                  labels={\n",
        "                                      \"class\": \"Launch Outcome\",\n",
        "                                  },\n",
        "                                  title=\"Correlation between Payload and Success for all sites\")\n",
        "    else:\n",
        "        slide_df = spacex_df[(spacex_df['Payload Mass (kg)'].between(left=payload_value[0], right=payload_value[1])) & (\n",
        "                spacex_df['Launch Site'] == entered_site)]\n",
        "        scatter_plot = px.scatter(slide_df, x=\"Payload Mass (kg)\", y=\"class\", color=\"Booster Version Category\",\n",
        "                                  labels={\n",
        "                                      \"class\": \"Launch Outcome\",\n",
        "                                  },\n",
        "                                  title=\"Correlation between Payload and Success for all sites\")\n",
        "    return scatter_plot\n",
        "\n",
        "# run the app\n",
        "if __name__ == '__main__':\n",
        "    app.run_server(mode='inline', debug=True)"
      ],
      "execution_count": 5,
      "outputs": [
        {
          "output_type": "display_data",
          "data": {
            "application/javascript": [
              "(async (port, path, width, height, cache, element) => {\n",
              "    if (!google.colab.kernel.accessAllowed && !cache) {\n",
              "      return;\n",
              "    }\n",
              "    element.appendChild(document.createTextNode(''));\n",
              "    const url = await google.colab.kernel.proxyPort(port, {cache});\n",
              "    const iframe = document.createElement('iframe');\n",
              "    iframe.src = new URL(path, url).toString();\n",
              "    iframe.height = height;\n",
              "    iframe.width = width;\n",
              "    iframe.style.border = 0;\n",
              "    element.appendChild(iframe);\n",
              "  })(8050, \"/\", \"100%\", 650, false, window.element)"
            ],
            "text/plain": [
              "<IPython.core.display.Javascript object>"
            ]
          },
          "metadata": {}
        }
      ]
    }
  ]
}