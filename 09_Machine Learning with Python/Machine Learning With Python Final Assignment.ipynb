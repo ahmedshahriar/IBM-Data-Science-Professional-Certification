{
 "cells": [
  {
   "cell_type": "markdown",
   "metadata": {
    "button": false,
    "new_sheet": false,
    "run_control": {
     "read_only": false
    }
   },
   "source": [
    "<center>\n",
    "    <img src=\"https://cf-courses-data.s3.us.cloud-object-storage.appdomain.cloud/IBMDeveloperSkillsNetwork-ML0101EN-SkillsNetwork/labs/FinalModule_Coursera/images/IDSNlogo.png\" width=\"300\" alt=\"cognitiveclass.ai logo\"  />\n",
    "</center>\n",
    "\n",
    "<h1 align=\"center\"><font size=\"5\">Classification with Python</font></h1>\n"
   ]
  },
  {
   "cell_type": "markdown",
   "metadata": {
    "button": false,
    "new_sheet": false,
    "run_control": {
     "read_only": false
    }
   },
   "source": [
    "In this notebook we try to practice all the classification algorithms that we have learned in this course.\n",
    "\n",
    "We load a dataset using Pandas library, and apply the following algorithms, and find the best one for this specific dataset by accuracy evaluation methods.\n",
    "\n",
    "Let's first load required libraries:\n"
   ]
  },
  {
   "cell_type": "code",
   "execution_count": 1,
   "metadata": {
    "button": false,
    "new_sheet": false,
    "run_control": {
     "read_only": false
    }
   },
   "outputs": [],
   "source": [
    "%%capture\n",
    "import itertools\n",
    "import numpy as np\n",
    "import pandas as pd\n",
    "import scipy\n",
    "import matplotlib.pyplot as plt\n",
    "import matplotlib.ticker as ticker\n",
    "import seaborn as sns\n",
    "\n",
    "!pip install imblearn\n",
    "!pip install delayed\n",
    "# Install and restart\n",
    "\n",
    "from imblearn.over_sampling import SMOTE\n",
    "from collections import Counter\n",
    "from sklearn import preprocessing\n",
    "%matplotlib inline"
   ]
  },
  {
   "cell_type": "markdown",
   "metadata": {
    "button": false,
    "new_sheet": false,
    "run_control": {
     "read_only": false
    }
   },
   "source": [
    "### About dataset\n"
   ]
  },
  {
   "cell_type": "markdown",
   "metadata": {
    "button": false,
    "new_sheet": false,
    "run_control": {
     "read_only": false
    }
   },
   "source": [
    "This dataset is about past loans. The **Loan_train.csv** data set includes details of 346 customers whose loan are already paid off or defaulted. It includes following fields:\n",
    "\n",
    "| Field          | Description                                                                           |\n",
    "| -------------- | ------------------------------------------------------------------------------------- |\n",
    "| Loan_status    | Whether a loan is paid off on in collection                                           |\n",
    "| Principal      | Basic principal loan amount at the                                                    |\n",
    "| Terms          | Origination terms which can be weekly (7 days), biweekly, and monthly payoff schedule |\n",
    "| Effective_date | When the loan got originated and took effects                                         |\n",
    "| Due_date       | Since it’s one-time payoff schedule, each loan has one single due date                |\n",
    "| Age            | Age of applicant                                                                      |\n",
    "| Education      | Education of applicant                                                                |\n",
    "| Gender         | The gender of applicant                                                               |\n"
   ]
  },
  {
   "cell_type": "markdown",
   "metadata": {
    "button": false,
    "new_sheet": false,
    "run_control": {
     "read_only": false
    }
   },
   "source": [
    "Let's download the dataset\n"
   ]
  },
  {
   "cell_type": "code",
   "execution_count": 2,
   "metadata": {
    "button": false,
    "new_sheet": false,
    "run_control": {
     "read_only": false
    }
   },
   "outputs": [
    {
     "name": "stdout",
     "output_type": "stream",
     "text": [
      "--2022-01-04 14:46:46--  https://cf-courses-data.s3.us.cloud-object-storage.appdomain.cloud/IBMDeveloperSkillsNetwork-ML0101EN-SkillsNetwork/labs/FinalModule_Coursera/data/loan_train.csv\n",
      "Resolving cf-courses-data.s3.us.cloud-object-storage.appdomain.cloud (cf-courses-data.s3.us.cloud-object-storage.appdomain.cloud)... 169.45.118.108\n",
      "Connecting to cf-courses-data.s3.us.cloud-object-storage.appdomain.cloud (cf-courses-data.s3.us.cloud-object-storage.appdomain.cloud)|169.45.118.108|:443... connected.\n",
      "HTTP request sent, awaiting response... 200 OK\n",
      "Length: 23101 (23K) [text/csv]\n",
      "Saving to: ‘loan_train.csv’\n",
      "\n",
      "loan_train.csv      100%[===================>]  22.56K  --.-KB/s    in 0s      \n",
      "\n",
      "2022-01-04 14:46:47 (179 MB/s) - ‘loan_train.csv’ saved [23101/23101]\n",
      "\n"
     ]
    }
   ],
   "source": [
    "!wget -O loan_train.csv https://cf-courses-data.s3.us.cloud-object-storage.appdomain.cloud/IBMDeveloperSkillsNetwork-ML0101EN-SkillsNetwork/labs/FinalModule_Coursera/data/loan_train.csv"
   ]
  },
  {
   "cell_type": "markdown",
   "metadata": {
    "button": false,
    "new_sheet": false,
    "run_control": {
     "read_only": false
    }
   },
   "source": [
    "### Load Data From CSV File\n"
   ]
  },
  {
   "cell_type": "code",
   "execution_count": 3,
   "metadata": {
    "button": false,
    "new_sheet": false,
    "run_control": {
     "read_only": false
    }
   },
   "outputs": [
    {
     "data": {
      "text/html": [
       "<div>\n",
       "<style scoped>\n",
       "    .dataframe tbody tr th:only-of-type {\n",
       "        vertical-align: middle;\n",
       "    }\n",
       "\n",
       "    .dataframe tbody tr th {\n",
       "        vertical-align: top;\n",
       "    }\n",
       "\n",
       "    .dataframe thead th {\n",
       "        text-align: right;\n",
       "    }\n",
       "</style>\n",
       "<table border=\"1\" class=\"dataframe\">\n",
       "  <thead>\n",
       "    <tr style=\"text-align: right;\">\n",
       "      <th></th>\n",
       "      <th>Unnamed: 0</th>\n",
       "      <th>Unnamed: 0.1</th>\n",
       "      <th>loan_status</th>\n",
       "      <th>Principal</th>\n",
       "      <th>terms</th>\n",
       "      <th>effective_date</th>\n",
       "      <th>due_date</th>\n",
       "      <th>age</th>\n",
       "      <th>education</th>\n",
       "      <th>Gender</th>\n",
       "    </tr>\n",
       "  </thead>\n",
       "  <tbody>\n",
       "    <tr>\n",
       "      <th>0</th>\n",
       "      <td>0</td>\n",
       "      <td>0</td>\n",
       "      <td>PAIDOFF</td>\n",
       "      <td>1000</td>\n",
       "      <td>30</td>\n",
       "      <td>9/8/2016</td>\n",
       "      <td>10/7/2016</td>\n",
       "      <td>45</td>\n",
       "      <td>High School or Below</td>\n",
       "      <td>male</td>\n",
       "    </tr>\n",
       "    <tr>\n",
       "      <th>1</th>\n",
       "      <td>2</td>\n",
       "      <td>2</td>\n",
       "      <td>PAIDOFF</td>\n",
       "      <td>1000</td>\n",
       "      <td>30</td>\n",
       "      <td>9/8/2016</td>\n",
       "      <td>10/7/2016</td>\n",
       "      <td>33</td>\n",
       "      <td>Bechalor</td>\n",
       "      <td>female</td>\n",
       "    </tr>\n",
       "    <tr>\n",
       "      <th>2</th>\n",
       "      <td>3</td>\n",
       "      <td>3</td>\n",
       "      <td>PAIDOFF</td>\n",
       "      <td>1000</td>\n",
       "      <td>15</td>\n",
       "      <td>9/8/2016</td>\n",
       "      <td>9/22/2016</td>\n",
       "      <td>27</td>\n",
       "      <td>college</td>\n",
       "      <td>male</td>\n",
       "    </tr>\n",
       "    <tr>\n",
       "      <th>3</th>\n",
       "      <td>4</td>\n",
       "      <td>4</td>\n",
       "      <td>PAIDOFF</td>\n",
       "      <td>1000</td>\n",
       "      <td>30</td>\n",
       "      <td>9/9/2016</td>\n",
       "      <td>10/8/2016</td>\n",
       "      <td>28</td>\n",
       "      <td>college</td>\n",
       "      <td>female</td>\n",
       "    </tr>\n",
       "    <tr>\n",
       "      <th>4</th>\n",
       "      <td>6</td>\n",
       "      <td>6</td>\n",
       "      <td>PAIDOFF</td>\n",
       "      <td>1000</td>\n",
       "      <td>30</td>\n",
       "      <td>9/9/2016</td>\n",
       "      <td>10/8/2016</td>\n",
       "      <td>29</td>\n",
       "      <td>college</td>\n",
       "      <td>male</td>\n",
       "    </tr>\n",
       "  </tbody>\n",
       "</table>\n",
       "</div>"
      ],
      "text/plain": [
       "   Unnamed: 0  Unnamed: 0.1 loan_status  Principal  terms effective_date  \\\n",
       "0           0             0     PAIDOFF       1000     30       9/8/2016   \n",
       "1           2             2     PAIDOFF       1000     30       9/8/2016   \n",
       "2           3             3     PAIDOFF       1000     15       9/8/2016   \n",
       "3           4             4     PAIDOFF       1000     30       9/9/2016   \n",
       "4           6             6     PAIDOFF       1000     30       9/9/2016   \n",
       "\n",
       "    due_date  age             education  Gender  \n",
       "0  10/7/2016   45  High School or Below    male  \n",
       "1  10/7/2016   33              Bechalor  female  \n",
       "2  9/22/2016   27               college    male  \n",
       "3  10/8/2016   28               college  female  \n",
       "4  10/8/2016   29               college    male  "
      ]
     },
     "execution_count": 3,
     "metadata": {},
     "output_type": "execute_result"
    }
   ],
   "source": [
    "df = pd.read_csv('loan_train.csv')\n",
    "df.head()"
   ]
  },
  {
   "cell_type": "code",
   "execution_count": 4,
   "metadata": {},
   "outputs": [
    {
     "data": {
      "text/plain": [
       "(346, 10)"
      ]
     },
     "execution_count": 4,
     "metadata": {},
     "output_type": "execute_result"
    }
   ],
   "source": [
    "df.shape"
   ]
  },
  {
   "cell_type": "markdown",
   "metadata": {
    "button": false,
    "new_sheet": false,
    "run_control": {
     "read_only": false
    }
   },
   "source": [
    "### Convert to date time object\n"
   ]
  },
  {
   "cell_type": "code",
   "execution_count": 5,
   "metadata": {
    "button": false,
    "new_sheet": false,
    "run_control": {
     "read_only": false
    }
   },
   "outputs": [
    {
     "data": {
      "text/html": [
       "<div>\n",
       "<style scoped>\n",
       "    .dataframe tbody tr th:only-of-type {\n",
       "        vertical-align: middle;\n",
       "    }\n",
       "\n",
       "    .dataframe tbody tr th {\n",
       "        vertical-align: top;\n",
       "    }\n",
       "\n",
       "    .dataframe thead th {\n",
       "        text-align: right;\n",
       "    }\n",
       "</style>\n",
       "<table border=\"1\" class=\"dataframe\">\n",
       "  <thead>\n",
       "    <tr style=\"text-align: right;\">\n",
       "      <th></th>\n",
       "      <th>Unnamed: 0</th>\n",
       "      <th>Unnamed: 0.1</th>\n",
       "      <th>loan_status</th>\n",
       "      <th>Principal</th>\n",
       "      <th>terms</th>\n",
       "      <th>effective_date</th>\n",
       "      <th>due_date</th>\n",
       "      <th>age</th>\n",
       "      <th>education</th>\n",
       "      <th>Gender</th>\n",
       "    </tr>\n",
       "  </thead>\n",
       "  <tbody>\n",
       "    <tr>\n",
       "      <th>0</th>\n",
       "      <td>0</td>\n",
       "      <td>0</td>\n",
       "      <td>PAIDOFF</td>\n",
       "      <td>1000</td>\n",
       "      <td>30</td>\n",
       "      <td>2016-09-08</td>\n",
       "      <td>2016-10-07</td>\n",
       "      <td>45</td>\n",
       "      <td>High School or Below</td>\n",
       "      <td>male</td>\n",
       "    </tr>\n",
       "    <tr>\n",
       "      <th>1</th>\n",
       "      <td>2</td>\n",
       "      <td>2</td>\n",
       "      <td>PAIDOFF</td>\n",
       "      <td>1000</td>\n",
       "      <td>30</td>\n",
       "      <td>2016-09-08</td>\n",
       "      <td>2016-10-07</td>\n",
       "      <td>33</td>\n",
       "      <td>Bechalor</td>\n",
       "      <td>female</td>\n",
       "    </tr>\n",
       "    <tr>\n",
       "      <th>2</th>\n",
       "      <td>3</td>\n",
       "      <td>3</td>\n",
       "      <td>PAIDOFF</td>\n",
       "      <td>1000</td>\n",
       "      <td>15</td>\n",
       "      <td>2016-09-08</td>\n",
       "      <td>2016-09-22</td>\n",
       "      <td>27</td>\n",
       "      <td>college</td>\n",
       "      <td>male</td>\n",
       "    </tr>\n",
       "    <tr>\n",
       "      <th>3</th>\n",
       "      <td>4</td>\n",
       "      <td>4</td>\n",
       "      <td>PAIDOFF</td>\n",
       "      <td>1000</td>\n",
       "      <td>30</td>\n",
       "      <td>2016-09-09</td>\n",
       "      <td>2016-10-08</td>\n",
       "      <td>28</td>\n",
       "      <td>college</td>\n",
       "      <td>female</td>\n",
       "    </tr>\n",
       "    <tr>\n",
       "      <th>4</th>\n",
       "      <td>6</td>\n",
       "      <td>6</td>\n",
       "      <td>PAIDOFF</td>\n",
       "      <td>1000</td>\n",
       "      <td>30</td>\n",
       "      <td>2016-09-09</td>\n",
       "      <td>2016-10-08</td>\n",
       "      <td>29</td>\n",
       "      <td>college</td>\n",
       "      <td>male</td>\n",
       "    </tr>\n",
       "  </tbody>\n",
       "</table>\n",
       "</div>"
      ],
      "text/plain": [
       "   Unnamed: 0  Unnamed: 0.1 loan_status  Principal  terms effective_date  \\\n",
       "0           0             0     PAIDOFF       1000     30     2016-09-08   \n",
       "1           2             2     PAIDOFF       1000     30     2016-09-08   \n",
       "2           3             3     PAIDOFF       1000     15     2016-09-08   \n",
       "3           4             4     PAIDOFF       1000     30     2016-09-09   \n",
       "4           6             6     PAIDOFF       1000     30     2016-09-09   \n",
       "\n",
       "    due_date  age             education  Gender  \n",
       "0 2016-10-07   45  High School or Below    male  \n",
       "1 2016-10-07   33              Bechalor  female  \n",
       "2 2016-09-22   27               college    male  \n",
       "3 2016-10-08   28               college  female  \n",
       "4 2016-10-08   29               college    male  "
      ]
     },
     "execution_count": 5,
     "metadata": {},
     "output_type": "execute_result"
    }
   ],
   "source": [
    "df['due_date'] = pd.to_datetime(df['due_date'])\n",
    "df['effective_date'] = pd.to_datetime(df['effective_date'])\n",
    "df.head()"
   ]
  },
  {
   "cell_type": "markdown",
   "metadata": {
    "button": false,
    "new_sheet": false,
    "run_control": {
     "read_only": false
    }
   },
   "source": [
    "# Data visualization and pre-processing\n"
   ]
  },
  {
   "cell_type": "markdown",
   "metadata": {
    "button": false,
    "new_sheet": false,
    "run_control": {
     "read_only": false
    }
   },
   "source": [
    "Let’s see how many of each class is in our data set\n"
   ]
  },
  {
   "cell_type": "code",
   "execution_count": 6,
   "metadata": {
    "button": false,
    "new_sheet": false,
    "run_control": {
     "read_only": false
    }
   },
   "outputs": [
    {
     "data": {
      "text/plain": [
       "PAIDOFF       260\n",
       "COLLECTION     86\n",
       "Name: loan_status, dtype: int64"
      ]
     },
     "execution_count": 6,
     "metadata": {},
     "output_type": "execute_result"
    }
   ],
   "source": [
    "df['loan_status'].value_counts()"
   ]
  },
  {
   "cell_type": "markdown",
   "metadata": {
    "button": false,
    "new_sheet": false,
    "run_control": {
     "read_only": false
    }
   },
   "source": [
    "260 people have paid off the loan on time while 86 have gone into collection\n"
   ]
  },
  {
   "cell_type": "markdown",
   "metadata": {},
   "source": [
    "Let's plot some columns to underestand data better:\n"
   ]
  },
  {
   "cell_type": "code",
   "execution_count": 7,
   "metadata": {},
   "outputs": [
    {
     "data": {
      "image/png": "[encoded data removed]",
      "text/plain": [
       "<Figure size 432x216 with 2 Axes>"
      ]
     },
     "metadata": {
      "needs_background": "light"
     },
     "output_type": "display_data"
    }
   ],
   "source": [
    "bins = np.linspace(df.Principal.min(), df.Principal.max(), 10)\n",
    "g = sns.FacetGrid(df, col=\"Gender\", hue=\"loan_status\", palette=\"Set1\", col_wrap=2)\n",
    "g.map(plt.hist, 'Principal', bins=bins, ec=\"k\")\n",
    "\n",
    "g.axes[-1].legend()\n",
    "plt.show()"
   ]
  },
  {
   "cell_type": "code",
   "execution_count": 8,
   "metadata": {
    "button": false,
    "new_sheet": false,
    "run_control": {
     "read_only": false
    }
   },
   "outputs": [
    {
     "data": {
      "image/png": "[encoded data removed]",
      "text/plain": [
       "<Figure size 432x216 with 2 Axes>"
      ]
     },
     "metadata": {
      "needs_background": "light"
     },
     "output_type": "display_data"
    }
   ],
   "source": [
    "bins = np.linspace(df.age.min(), df.age.max(), 10)\n",
    "g = sns.FacetGrid(df, col=\"Gender\", hue=\"loan_status\", palette=\"Set1\", col_wrap=2)\n",
    "g.map(plt.hist, 'age', bins=bins, ec=\"k\")\n",
    "\n",
    "g.axes[-1].legend()\n",
    "plt.show()"
   ]
  },
  {
   "cell_type": "markdown",
   "metadata": {
    "button": false,
    "new_sheet": false,
    "run_control": {
     "read_only": false
    }
   },
   "source": [
    "# Pre-processing:  Feature selection/extraction\n"
   ]
  },
  {
   "cell_type": "markdown",
   "metadata": {
    "button": false,
    "new_sheet": false,
    "run_control": {
     "read_only": false
    }
   },
   "source": [
    "### Let's look at the day of the week people get the loan\n"
   ]
  },
  {
   "cell_type": "code",
   "execution_count": 9,
   "metadata": {
    "button": false,
    "new_sheet": false,
    "run_control": {
     "read_only": false
    }
   },
   "outputs": [
    {
     "data": {
      "image/png": "[encoded data removed]",
      "text/plain": [
       "<Figure size 432x216 with 2 Axes>"
      ]
     },
     "metadata": {
      "needs_background": "light"
     },
     "output_type": "display_data"
    }
   ],
   "source": [
    "df['dayofweek'] = df['effective_date'].dt.dayofweek\n",
    "bins = np.linspace(df.dayofweek.min(), df.dayofweek.max(), 10)\n",
    "g = sns.FacetGrid(df, col=\"Gender\", hue=\"loan_status\", palette=\"Set1\", col_wrap=2)\n",
    "g.map(plt.hist, 'dayofweek', bins=bins, ec=\"k\")\n",
    "g.axes[-1].legend()\n",
    "plt.show()\n"
   ]
  },
  {
   "cell_type": "markdown",
   "metadata": {
    "button": false,
    "new_sheet": false,
    "run_control": {
     "read_only": false
    }
   },
   "source": [
    "We see that people who get the loan at the end of the week don't pay it off, so let's use Feature binarization to set a threshold value less than day 4\n"
   ]
  },
  {
   "cell_type": "code",
   "execution_count": 10,
   "metadata": {
    "button": false,
    "new_sheet": false,
    "run_control": {
     "read_only": false
    }
   },
   "outputs": [
    {
     "data": {
      "text/html": [
       "<div>\n",
       "<style scoped>\n",
       "    .dataframe tbody tr th:only-of-type {\n",
       "        vertical-align: middle;\n",
       "    }\n",
       "\n",
       "    .dataframe tbody tr th {\n",
       "        vertical-align: top;\n",
       "    }\n",
       "\n",
       "    .dataframe thead th {\n",
       "        text-align: right;\n",
       "    }\n",
       "</style>\n",
       "<table border=\"1\" class=\"dataframe\">\n",
       "  <thead>\n",
       "    <tr style=\"text-align: right;\">\n",
       "      <th></th>\n",
       "      <th>Unnamed: 0</th>\n",
       "      <th>Unnamed: 0.1</th>\n",
       "      <th>loan_status</th>\n",
       "      <th>Principal</th>\n",
       "      <th>terms</th>\n",
       "      <th>effective_date</th>\n",
       "      <th>due_date</th>\n",
       "      <th>age</th>\n",
       "      <th>education</th>\n",
       "      <th>Gender</th>\n",
       "      <th>dayofweek</th>\n",
       "      <th>weekend</th>\n",
       "    </tr>\n",
       "  </thead>\n",
       "  <tbody>\n",
       "    <tr>\n",
       "      <th>0</th>\n",
       "      <td>0</td>\n",
       "      <td>0</td>\n",
       "      <td>PAIDOFF</td>\n",
       "      <td>1000</td>\n",
       "      <td>30</td>\n",
       "      <td>2016-09-08</td>\n",
       "      <td>2016-10-07</td>\n",
       "      <td>45</td>\n",
       "      <td>High School or Below</td>\n",
       "      <td>male</td>\n",
       "      <td>3</td>\n",
       "      <td>0</td>\n",
       "    </tr>\n",
       "    <tr>\n",
       "      <th>1</th>\n",
       "      <td>2</td>\n",
       "      <td>2</td>\n",
       "      <td>PAIDOFF</td>\n",
       "      <td>1000</td>\n",
       "      <td>30</td>\n",
       "      <td>2016-09-08</td>\n",
       "      <td>2016-10-07</td>\n",
       "      <td>33</td>\n",
       "      <td>Bechalor</td>\n",
       "      <td>female</td>\n",
       "      <td>3</td>\n",
       "      <td>0</td>\n",
       "    </tr>\n",
       "    <tr>\n",
       "      <th>2</th>\n",
       "      <td>3</td>\n",
       "      <td>3</td>\n",
       "      <td>PAIDOFF</td>\n",
       "      <td>1000</td>\n",
       "      <td>15</td>\n",
       "      <td>2016-09-08</td>\n",
       "      <td>2016-09-22</td>\n",
       "      <td>27</td>\n",
       "      <td>college</td>\n",
       "      <td>male</td>\n",
       "      <td>3</td>\n",
       "      <td>0</td>\n",
       "    </tr>\n",
       "    <tr>\n",
       "      <th>3</th>\n",
       "      <td>4</td>\n",
       "      <td>4</td>\n",
       "      <td>PAIDOFF</td>\n",
       "      <td>1000</td>\n",
       "      <td>30</td>\n",
       "      <td>2016-09-09</td>\n",
       "      <td>2016-10-08</td>\n",
       "      <td>28</td>\n",
       "      <td>college</td>\n",
       "      <td>female</td>\n",
       "      <td>4</td>\n",
       "      <td>1</td>\n",
       "    </tr>\n",
       "    <tr>\n",
       "      <th>4</th>\n",
       "      <td>6</td>\n",
       "      <td>6</td>\n",
       "      <td>PAIDOFF</td>\n",
       "      <td>1000</td>\n",
       "      <td>30</td>\n",
       "      <td>2016-09-09</td>\n",
       "      <td>2016-10-08</td>\n",
       "      <td>29</td>\n",
       "      <td>college</td>\n",
       "      <td>male</td>\n",
       "      <td>4</td>\n",
       "      <td>1</td>\n",
       "    </tr>\n",
       "  </tbody>\n",
       "</table>\n",
       "</div>"
      ],
      "text/plain": [
       "   Unnamed: 0  Unnamed: 0.1 loan_status  Principal  terms effective_date  \\\n",
       "0           0             0     PAIDOFF       1000     30     2016-09-08   \n",
       "1           2             2     PAIDOFF       1000     30     2016-09-08   \n",
       "2           3             3     PAIDOFF       1000     15     2016-09-08   \n",
       "3           4             4     PAIDOFF       1000     30     2016-09-09   \n",
       "4           6             6     PAIDOFF       1000     30     2016-09-09   \n",
       "\n",
       "    due_date  age             education  Gender  dayofweek  weekend  \n",
       "0 2016-10-07   45  High School or Below    male          3        0  \n",
       "1 2016-10-07   33              Bechalor  female          3        0  \n",
       "2 2016-09-22   27               college    male          3        0  \n",
       "3 2016-10-08   28               college  female          4        1  \n",
       "4 2016-10-08   29               college    male          4        1  "
      ]
     },
     "execution_count": 10,
     "metadata": {},
     "output_type": "execute_result"
    }
   ],
   "source": [
    "df['weekend'] = df['dayofweek'].apply(lambda x: 1 if (x>3)  else 0)\n",
    "df.head()"
   ]
  },
  {
   "cell_type": "markdown",
   "metadata": {
    "button": false,
    "new_sheet": false,
    "run_control": {
     "read_only": false
    }
   },
   "source": [
    "## Convert Categorical features to numerical values\n"
   ]
  },
  {
   "cell_type": "markdown",
   "metadata": {
    "button": false,
    "new_sheet": false,
    "run_control": {
     "read_only": false
    }
   },
   "source": [
    "Let's look at gender:\n"
   ]
  },
  {
   "cell_type": "code",
   "execution_count": 11,
   "metadata": {
    "button": false,
    "new_sheet": false,
    "run_control": {
     "read_only": false
    }
   },
   "outputs": [
    {
     "data": {
      "text/plain": [
       "Gender  loan_status\n",
       "female  PAIDOFF        0.865385\n",
       "        COLLECTION     0.134615\n",
       "male    PAIDOFF        0.731293\n",
       "        COLLECTION     0.268707\n",
       "Name: loan_status, dtype: float64"
      ]
     },
     "execution_count": 11,
     "metadata": {},
     "output_type": "execute_result"
    }
   ],
   "source": [
    "df.groupby(['Gender'])['loan_status'].value_counts(normalize=True)"
   ]
  },
  {
   "cell_type": "markdown",
   "metadata": {
    "button": false,
    "new_sheet": false,
    "run_control": {
     "read_only": false
    }
   },
   "source": [
    "86 % of female pay there loans while only 73 % of males pay there loan\n"
   ]
  },
  {
   "cell_type": "markdown",
   "metadata": {
    "button": false,
    "new_sheet": false,
    "run_control": {
     "read_only": false
    }
   },
   "source": [
    "Let's convert male to 0 and female to 1:\n"
   ]
  },
  {
   "cell_type": "code",
   "execution_count": 12,
   "metadata": {
    "button": false,
    "new_sheet": false,
    "run_control": {
     "read_only": false
    }
   },
   "outputs": [
    {
     "data": {
      "text/html": [
       "<div>\n",
       "<style scoped>\n",
       "    .dataframe tbody tr th:only-of-type {\n",
       "        vertical-align: middle;\n",
       "    }\n",
       "\n",
       "    .dataframe tbody tr th {\n",
       "        vertical-align: top;\n",
       "    }\n",
       "\n",
       "    .dataframe thead th {\n",
       "        text-align: right;\n",
       "    }\n",
       "</style>\n",
       "<table border=\"1\" class=\"dataframe\">\n",
       "  <thead>\n",
       "    <tr style=\"text-align: right;\">\n",
       "      <th></th>\n",
       "      <th>Unnamed: 0</th>\n",
       "      <th>Unnamed: 0.1</th>\n",
       "      <th>loan_status</th>\n",
       "      <th>Principal</th>\n",
       "      <th>terms</th>\n",
       "      <th>effective_date</th>\n",
       "      <th>due_date</th>\n",
       "      <th>age</th>\n",
       "      <th>education</th>\n",
       "      <th>Gender</th>\n",
       "      <th>dayofweek</th>\n",
       "      <th>weekend</th>\n",
       "    </tr>\n",
       "  </thead>\n",
       "  <tbody>\n",
       "    <tr>\n",
       "      <th>0</th>\n",
       "      <td>0</td>\n",
       "      <td>0</td>\n",
       "      <td>PAIDOFF</td>\n",
       "      <td>1000</td>\n",
       "      <td>30</td>\n",
       "      <td>2016-09-08</td>\n",
       "      <td>2016-10-07</td>\n",
       "      <td>45</td>\n",
       "      <td>High School or Below</td>\n",
       "      <td>0</td>\n",
       "      <td>3</td>\n",
       "      <td>0</td>\n",
       "    </tr>\n",
       "    <tr>\n",
       "      <th>1</th>\n",
       "      <td>2</td>\n",
       "      <td>2</td>\n",
       "      <td>PAIDOFF</td>\n",
       "      <td>1000</td>\n",
       "      <td>30</td>\n",
       "      <td>2016-09-08</td>\n",
       "      <td>2016-10-07</td>\n",
       "      <td>33</td>\n",
       "      <td>Bechalor</td>\n",
       "      <td>1</td>\n",
       "      <td>3</td>\n",
       "      <td>0</td>\n",
       "    </tr>\n",
       "    <tr>\n",
       "      <th>2</th>\n",
       "      <td>3</td>\n",
       "      <td>3</td>\n",
       "      <td>PAIDOFF</td>\n",
       "      <td>1000</td>\n",
       "      <td>15</td>\n",
       "      <td>2016-09-08</td>\n",
       "      <td>2016-09-22</td>\n",
       "      <td>27</td>\n",
       "      <td>college</td>\n",
       "      <td>0</td>\n",
       "      <td>3</td>\n",
       "      <td>0</td>\n",
       "    </tr>\n",
       "    <tr>\n",
       "      <th>3</th>\n",
       "      <td>4</td>\n",
       "      <td>4</td>\n",
       "      <td>PAIDOFF</td>\n",
       "      <td>1000</td>\n",
       "      <td>30</td>\n",
       "      <td>2016-09-09</td>\n",
       "      <td>2016-10-08</td>\n",
       "      <td>28</td>\n",
       "      <td>college</td>\n",
       "      <td>1</td>\n",
       "      <td>4</td>\n",
       "      <td>1</td>\n",
       "    </tr>\n",
       "    <tr>\n",
       "      <th>4</th>\n",
       "      <td>6</td>\n",
       "      <td>6</td>\n",
       "      <td>PAIDOFF</td>\n",
       "      <td>1000</td>\n",
       "      <td>30</td>\n",
       "      <td>2016-09-09</td>\n",
       "      <td>2016-10-08</td>\n",
       "      <td>29</td>\n",
       "      <td>college</td>\n",
       "      <td>0</td>\n",
       "      <td>4</td>\n",
       "      <td>1</td>\n",
       "    </tr>\n",
       "  </tbody>\n",
       "</table>\n",
       "</div>"
      ],
      "text/plain": [
       "   Unnamed: 0  Unnamed: 0.1 loan_status  Principal  terms effective_date  \\\n",
       "0           0             0     PAIDOFF       1000     30     2016-09-08   \n",
       "1           2             2     PAIDOFF       1000     30     2016-09-08   \n",
       "2           3             3     PAIDOFF       1000     15     2016-09-08   \n",
       "3           4             4     PAIDOFF       1000     30     2016-09-09   \n",
       "4           6             6     PAIDOFF       1000     30     2016-09-09   \n",
       "\n",
       "    due_date  age             education  Gender  dayofweek  weekend  \n",
       "0 2016-10-07   45  High School or Below       0          3        0  \n",
       "1 2016-10-07   33              Bechalor       1          3        0  \n",
       "2 2016-09-22   27               college       0          3        0  \n",
       "3 2016-10-08   28               college       1          4        1  \n",
       "4 2016-10-08   29               college       0          4        1  "
      ]
     },
     "execution_count": 12,
     "metadata": {},
     "output_type": "execute_result"
    }
   ],
   "source": [
    "df['Gender'].replace(to_replace=['male','female'], value=[0,1],inplace=True)\n",
    "df.head()"
   ]
  },
  {
   "cell_type": "markdown",
   "metadata": {
    "button": false,
    "new_sheet": false,
    "run_control": {
     "read_only": false
    }
   },
   "source": [
    "## One Hot Encoding\n",
    "\n",
    "#### How about education?\n"
   ]
  },
  {
   "cell_type": "code",
   "execution_count": 13,
   "metadata": {
    "button": false,
    "new_sheet": false,
    "run_control": {
     "read_only": false
    }
   },
   "outputs": [
    {
     "data": {
      "text/plain": [
       "education             loan_status\n",
       "Bechalor              PAIDOFF        0.750000\n",
       "                      COLLECTION     0.250000\n",
       "High School or Below  PAIDOFF        0.741722\n",
       "                      COLLECTION     0.258278\n",
       "Master or Above       COLLECTION     0.500000\n",
       "                      PAIDOFF        0.500000\n",
       "college               PAIDOFF        0.765101\n",
       "                      COLLECTION     0.234899\n",
       "Name: loan_status, dtype: float64"
      ]
     },
     "execution_count": 13,
     "metadata": {},
     "output_type": "execute_result"
    }
   ],
   "source": [
    "df.groupby(['education'])['loan_status'].value_counts(normalize=True)"
   ]
  },
  {
   "cell_type": "markdown",
   "metadata": {
    "button": false,
    "new_sheet": false,
    "run_control": {
     "read_only": false
    }
   },
   "source": [
    "#### Features before One Hot Encoding\n"
   ]
  },
  {
   "cell_type": "code",
   "execution_count": 14,
   "metadata": {
    "button": false,
    "new_sheet": false,
    "run_control": {
     "read_only": false
    }
   },
   "outputs": [
    {
     "data": {
      "text/html": [
       "<div>\n",
       "<style scoped>\n",
       "    .dataframe tbody tr th:only-of-type {\n",
       "        vertical-align: middle;\n",
       "    }\n",
       "\n",
       "    .dataframe tbody tr th {\n",
       "        vertical-align: top;\n",
       "    }\n",
       "\n",
       "    .dataframe thead th {\n",
       "        text-align: right;\n",
       "    }\n",
       "</style>\n",
       "<table border=\"1\" class=\"dataframe\">\n",
       "  <thead>\n",
       "    <tr style=\"text-align: right;\">\n",
       "      <th></th>\n",
       "      <th>Principal</th>\n",
       "      <th>terms</th>\n",
       "      <th>age</th>\n",
       "      <th>Gender</th>\n",
       "      <th>education</th>\n",
       "    </tr>\n",
       "  </thead>\n",
       "  <tbody>\n",
       "    <tr>\n",
       "      <th>0</th>\n",
       "      <td>1000</td>\n",
       "      <td>30</td>\n",
       "      <td>45</td>\n",
       "      <td>0</td>\n",
       "      <td>High School or Below</td>\n",
       "    </tr>\n",
       "    <tr>\n",
       "      <th>1</th>\n",
       "      <td>1000</td>\n",
       "      <td>30</td>\n",
       "      <td>33</td>\n",
       "      <td>1</td>\n",
       "      <td>Bechalor</td>\n",
       "    </tr>\n",
       "    <tr>\n",
       "      <th>2</th>\n",
       "      <td>1000</td>\n",
       "      <td>15</td>\n",
       "      <td>27</td>\n",
       "      <td>0</td>\n",
       "      <td>college</td>\n",
       "    </tr>\n",
       "    <tr>\n",
       "      <th>3</th>\n",
       "      <td>1000</td>\n",
       "      <td>30</td>\n",
       "      <td>28</td>\n",
       "      <td>1</td>\n",
       "      <td>college</td>\n",
       "    </tr>\n",
       "    <tr>\n",
       "      <th>4</th>\n",
       "      <td>1000</td>\n",
       "      <td>30</td>\n",
       "      <td>29</td>\n",
       "      <td>0</td>\n",
       "      <td>college</td>\n",
       "    </tr>\n",
       "  </tbody>\n",
       "</table>\n",
       "</div>"
      ],
      "text/plain": [
       "   Principal  terms  age  Gender             education\n",
       "0       1000     30   45       0  High School or Below\n",
       "1       1000     30   33       1              Bechalor\n",
       "2       1000     15   27       0               college\n",
       "3       1000     30   28       1               college\n",
       "4       1000     30   29       0               college"
      ]
     },
     "execution_count": 14,
     "metadata": {},
     "output_type": "execute_result"
    }
   ],
   "source": [
    "df[['Principal','terms','age','Gender','education']].head()"
   ]
  },
  {
   "cell_type": "markdown",
   "metadata": {
    "button": false,
    "new_sheet": false,
    "run_control": {
     "read_only": false
    }
   },
   "source": [
    "#### Use one hot encoding technique to conver categorical varables to binary variables and append them to the feature Data Frame\n"
   ]
  },
  {
   "cell_type": "code",
   "execution_count": 15,
   "metadata": {
    "button": false,
    "new_sheet": false,
    "run_control": {
     "read_only": false
    }
   },
   "outputs": [
    {
     "data": {
      "text/html": [
       "<div>\n",
       "<style scoped>\n",
       "    .dataframe tbody tr th:only-of-type {\n",
       "        vertical-align: middle;\n",
       "    }\n",
       "\n",
       "    .dataframe tbody tr th {\n",
       "        vertical-align: top;\n",
       "    }\n",
       "\n",
       "    .dataframe thead th {\n",
       "        text-align: right;\n",
       "    }\n",
       "</style>\n",
       "<table border=\"1\" class=\"dataframe\">\n",
       "  <thead>\n",
       "    <tr style=\"text-align: right;\">\n",
       "      <th></th>\n",
       "      <th>Principal</th>\n",
       "      <th>terms</th>\n",
       "      <th>age</th>\n",
       "      <th>Gender</th>\n",
       "      <th>weekend</th>\n",
       "      <th>Bechalor</th>\n",
       "      <th>High School or Below</th>\n",
       "      <th>college</th>\n",
       "    </tr>\n",
       "  </thead>\n",
       "  <tbody>\n",
       "    <tr>\n",
       "      <th>0</th>\n",
       "      <td>1000</td>\n",
       "      <td>30</td>\n",
       "      <td>45</td>\n",
       "      <td>0</td>\n",
       "      <td>0</td>\n",
       "      <td>0</td>\n",
       "      <td>1</td>\n",
       "      <td>0</td>\n",
       "    </tr>\n",
       "    <tr>\n",
       "      <th>1</th>\n",
       "      <td>1000</td>\n",
       "      <td>30</td>\n",
       "      <td>33</td>\n",
       "      <td>1</td>\n",
       "      <td>0</td>\n",
       "      <td>1</td>\n",
       "      <td>0</td>\n",
       "      <td>0</td>\n",
       "    </tr>\n",
       "    <tr>\n",
       "      <th>2</th>\n",
       "      <td>1000</td>\n",
       "      <td>15</td>\n",
       "      <td>27</td>\n",
       "      <td>0</td>\n",
       "      <td>0</td>\n",
       "      <td>0</td>\n",
       "      <td>0</td>\n",
       "      <td>1</td>\n",
       "    </tr>\n",
       "    <tr>\n",
       "      <th>3</th>\n",
       "      <td>1000</td>\n",
       "      <td>30</td>\n",
       "      <td>28</td>\n",
       "      <td>1</td>\n",
       "      <td>1</td>\n",
       "      <td>0</td>\n",
       "      <td>0</td>\n",
       "      <td>1</td>\n",
       "    </tr>\n",
       "    <tr>\n",
       "      <th>4</th>\n",
       "      <td>1000</td>\n",
       "      <td>30</td>\n",
       "      <td>29</td>\n",
       "      <td>0</td>\n",
       "      <td>1</td>\n",
       "      <td>0</td>\n",
       "      <td>0</td>\n",
       "      <td>1</td>\n",
       "    </tr>\n",
       "  </tbody>\n",
       "</table>\n",
       "</div>"
      ],
      "text/plain": [
       "   Principal  terms  age  Gender  weekend  Bechalor  High School or Below  \\\n",
       "0       1000     30   45       0        0         0                     1   \n",
       "1       1000     30   33       1        0         1                     0   \n",
       "2       1000     15   27       0        0         0                     0   \n",
       "3       1000     30   28       1        1         0                     0   \n",
       "4       1000     30   29       0        1         0                     0   \n",
       "\n",
       "   college  \n",
       "0        0  \n",
       "1        0  \n",
       "2        1  \n",
       "3        1  \n",
       "4        1  "
      ]
     },
     "execution_count": 15,
     "metadata": {},
     "output_type": "execute_result"
    }
   ],
   "source": [
    "Feature = df[['Principal','terms','age','Gender','weekend']]\n",
    "Feature = pd.concat([Feature,pd.get_dummies(df['education'])], axis=1)\n",
    "Feature.drop(['Master or Above'], axis = 1,inplace=True)\n",
    "Feature.head()\n"
   ]
  },
  {
   "cell_type": "markdown",
   "metadata": {
    "button": false,
    "new_sheet": false,
    "run_control": {
     "read_only": false
    }
   },
   "source": [
    "### Feature Selection\n"
   ]
  },
  {
   "cell_type": "markdown",
   "metadata": {
    "button": false,
    "new_sheet": false,
    "run_control": {
     "read_only": false
    }
   },
   "source": [
    "Let's define feature sets, X:\n"
   ]
  },
  {
   "cell_type": "code",
   "execution_count": 16,
   "metadata": {
    "button": false,
    "new_sheet": false,
    "run_control": {
     "read_only": false
    }
   },
   "outputs": [
    {
     "data": {
      "text/html": [
       "<div>\n",
       "<style scoped>\n",
       "    .dataframe tbody tr th:only-of-type {\n",
       "        vertical-align: middle;\n",
       "    }\n",
       "\n",
       "    .dataframe tbody tr th {\n",
       "        vertical-align: top;\n",
       "    }\n",
       "\n",
       "    .dataframe thead th {\n",
       "        text-align: right;\n",
       "    }\n",
       "</style>\n",
       "<table border=\"1\" class=\"dataframe\">\n",
       "  <thead>\n",
       "    <tr style=\"text-align: right;\">\n",
       "      <th></th>\n",
       "      <th>Principal</th>\n",
       "      <th>terms</th>\n",
       "      <th>age</th>\n",
       "      <th>Gender</th>\n",
       "      <th>weekend</th>\n",
       "      <th>Bechalor</th>\n",
       "      <th>High School or Below</th>\n",
       "      <th>college</th>\n",
       "    </tr>\n",
       "  </thead>\n",
       "  <tbody>\n",
       "    <tr>\n",
       "      <th>0</th>\n",
       "      <td>1000</td>\n",
       "      <td>30</td>\n",
       "      <td>45</td>\n",
       "      <td>0</td>\n",
       "      <td>0</td>\n",
       "      <td>0</td>\n",
       "      <td>1</td>\n",
       "      <td>0</td>\n",
       "    </tr>\n",
       "    <tr>\n",
       "      <th>1</th>\n",
       "      <td>1000</td>\n",
       "      <td>30</td>\n",
       "      <td>33</td>\n",
       "      <td>1</td>\n",
       "      <td>0</td>\n",
       "      <td>1</td>\n",
       "      <td>0</td>\n",
       "      <td>0</td>\n",
       "    </tr>\n",
       "    <tr>\n",
       "      <th>2</th>\n",
       "      <td>1000</td>\n",
       "      <td>15</td>\n",
       "      <td>27</td>\n",
       "      <td>0</td>\n",
       "      <td>0</td>\n",
       "      <td>0</td>\n",
       "      <td>0</td>\n",
       "      <td>1</td>\n",
       "    </tr>\n",
       "    <tr>\n",
       "      <th>3</th>\n",
       "      <td>1000</td>\n",
       "      <td>30</td>\n",
       "      <td>28</td>\n",
       "      <td>1</td>\n",
       "      <td>1</td>\n",
       "      <td>0</td>\n",
       "      <td>0</td>\n",
       "      <td>1</td>\n",
       "    </tr>\n",
       "    <tr>\n",
       "      <th>4</th>\n",
       "      <td>1000</td>\n",
       "      <td>30</td>\n",
       "      <td>29</td>\n",
       "      <td>0</td>\n",
       "      <td>1</td>\n",
       "      <td>0</td>\n",
       "      <td>0</td>\n",
       "      <td>1</td>\n",
       "    </tr>\n",
       "  </tbody>\n",
       "</table>\n",
       "</div>"
      ],
      "text/plain": [
       "   Principal  terms  age  Gender  weekend  Bechalor  High School or Below  \\\n",
       "0       1000     30   45       0        0         0                     1   \n",
       "1       1000     30   33       1        0         1                     0   \n",
       "2       1000     15   27       0        0         0                     0   \n",
       "3       1000     30   28       1        1         0                     0   \n",
       "4       1000     30   29       0        1         0                     0   \n",
       "\n",
       "   college  \n",
       "0        0  \n",
       "1        0  \n",
       "2        1  \n",
       "3        1  \n",
       "4        1  "
      ]
     },
     "execution_count": 16,
     "metadata": {},
     "output_type": "execute_result"
    }
   ],
   "source": [
    "X = Feature\n",
    "X[0:5]"
   ]
  },
  {
   "cell_type": "markdown",
   "metadata": {
    "button": false,
    "new_sheet": false,
    "run_control": {
     "read_only": false
    }
   },
   "source": [
    "What are our lables?\n"
   ]
  },
  {
   "cell_type": "code",
   "execution_count": 17,
   "metadata": {
    "button": false,
    "new_sheet": false,
    "run_control": {
     "read_only": false
    }
   },
   "outputs": [
    {
     "data": {
      "text/plain": [
       "array(['PAIDOFF', 'PAIDOFF', 'PAIDOFF', 'PAIDOFF', 'PAIDOFF'],\n",
       "      dtype=object)"
      ]
     },
     "execution_count": 17,
     "metadata": {},
     "output_type": "execute_result"
    }
   ],
   "source": [
    "y = df['loan_status'].values\n",
    "y[0:5]"
   ]
  },
  {
   "cell_type": "markdown",
   "metadata": {},
   "source": [
    "## Encoding Labels"
   ]
  },
  {
   "cell_type": "code",
   "execution_count": 18,
   "metadata": {},
   "outputs": [
    {
     "data": {
      "text/plain": [
       "array([1, 1, 1, 1, 1, 1, 1, 1, 1, 1, 1, 1, 1, 1, 1, 1, 1, 1, 1, 1, 1, 1,\n",
       "       1, 1, 1, 1, 1, 1, 1, 1, 1, 1, 1, 1, 1, 1, 1, 1, 1, 1, 1, 1, 1, 1,\n",
       "       1, 1, 1, 1, 1, 1, 1, 1, 1, 1, 1, 1, 1, 1, 1, 1, 1, 1, 1, 1, 1, 1,\n",
       "       1, 1, 1, 1, 1, 1, 1, 1, 1, 1, 1, 1, 1, 1, 1, 1, 1, 1, 1, 1, 1, 1,\n",
       "       1, 1, 1, 1, 1, 1, 1, 1, 1, 1, 1, 1, 1, 1, 1, 1, 1, 1, 1, 1, 1, 1,\n",
       "       1, 1, 1, 1, 1, 1, 1, 1, 1, 1, 1, 1, 1, 1, 1, 1, 1, 1, 1, 1, 1, 1,\n",
       "       1, 1, 1, 1, 1, 1, 1, 1, 1, 1, 1, 1, 1, 1, 1, 1, 1, 1, 1, 1, 1, 1,\n",
       "       1, 1, 1, 1, 1, 1, 1, 1, 1, 1, 1, 1, 1, 1, 1, 1, 1, 1, 1, 1, 1, 1,\n",
       "       1, 1, 1, 1, 1, 1, 1, 1, 1, 1, 1, 1, 1, 1, 1, 1, 1, 1, 1, 1, 1, 1,\n",
       "       1, 1, 1, 1, 1, 1, 1, 1, 1, 1, 1, 1, 1, 1, 1, 1, 1, 1, 1, 1, 1, 1,\n",
       "       1, 1, 1, 1, 1, 1, 1, 1, 1, 1, 1, 1, 1, 1, 1, 1, 1, 1, 1, 1, 1, 1,\n",
       "       1, 1, 1, 1, 1, 1, 1, 1, 1, 1, 1, 1, 1, 1, 1, 1, 1, 1, 0, 0, 0, 0,\n",
       "       0, 0, 0, 0, 0, 0, 0, 0, 0, 0, 0, 0, 0, 0, 0, 0, 0, 0, 0, 0, 0, 0,\n",
       "       0, 0, 0, 0, 0, 0, 0, 0, 0, 0, 0, 0, 0, 0, 0, 0, 0, 0, 0, 0, 0, 0,\n",
       "       0, 0, 0, 0, 0, 0, 0, 0, 0, 0, 0, 0, 0, 0, 0, 0, 0, 0, 0, 0, 0, 0,\n",
       "       0, 0, 0, 0, 0, 0, 0, 0, 0, 0, 0, 0, 0, 0, 0, 0])"
      ]
     },
     "execution_count": 18,
     "metadata": {},
     "output_type": "execute_result"
    }
   ],
   "source": [
    "le = preprocessing.LabelEncoder()\n",
    "y = le.fit_transform(y)\n",
    "y\n",
    "# 1 : paidoff, 0 : COLLECTION     "
   ]
  },
  {
   "cell_type": "markdown",
   "metadata": {},
   "source": [
    "## Handle Imbalanced Dataset with SMOTE"
   ]
  },
  {
   "cell_type": "code",
   "execution_count": 19,
   "metadata": {},
   "outputs": [],
   "source": [
    "oversample = SMOTE()"
   ]
  },
  {
   "cell_type": "code",
   "execution_count": 20,
   "metadata": {},
   "outputs": [
    {
     "name": "stdout",
     "output_type": "stream",
     "text": [
      "Counter({1: 260, 0: 260})\n"
     ]
    }
   ],
   "source": [
    "X, y = oversample.fit_resample(X, y)\n",
    "\n",
    "# summarize the new class distribution\n",
    "counter = Counter(y)\n",
    "print(counter)"
   ]
  },
  {
   "cell_type": "markdown",
   "metadata": {
    "button": false,
    "new_sheet": false,
    "run_control": {
     "read_only": false
    }
   },
   "source": [
    "## Normalize Data\n"
   ]
  },
  {
   "cell_type": "markdown",
   "metadata": {
    "button": false,
    "new_sheet": false,
    "run_control": {
     "read_only": false
    }
   },
   "source": [
    "Data Standardization give data zero mean and unit variance (technically should be done after train test split)\n"
   ]
  },
  {
   "cell_type": "code",
   "execution_count": 21,
   "metadata": {
    "button": false,
    "new_sheet": false,
    "run_control": {
     "read_only": false
    }
   },
   "outputs": [
    {
     "data": {
      "text/plain": [
       "array([[ 0.48268234,  0.86862188,  2.56566738, -0.34740417, -1.57795212,\n",
       "        -0.31152273,  1.27006509, -0.77142208],\n",
       "       [ 0.48268234,  0.86862188,  0.44573035,  2.87849167, -1.57795212,\n",
       "         3.2100386 , -0.78736122, -0.77142208],\n",
       "       [ 0.48268234, -1.0589032 , -0.61423817, -0.34740417, -1.57795212,\n",
       "        -0.31152273, -0.78736122,  1.29630721],\n",
       "       [ 0.48268234,  0.86862188, -0.43757675,  2.87849167,  0.63373279,\n",
       "        -0.31152273, -0.78736122,  1.29630721],\n",
       "       [ 0.48268234,  0.86862188, -0.26091533, -0.34740417,  0.63373279,\n",
       "        -0.31152273, -0.78736122,  1.29630721]])"
      ]
     },
     "execution_count": 21,
     "metadata": {},
     "output_type": "execute_result"
    }
   ],
   "source": [
    "# Scaling features\n",
    "\n",
    "scaler = preprocessing.StandardScaler() # StandardScaler()  RobustScaler()  MinMaxScaler() MaxAbsScaler()\n",
    "X = scaler.fit_transform(X)\n",
    "X[0:5]"
   ]
  },
  {
   "cell_type": "markdown",
   "metadata": {
    "button": false,
    "new_sheet": false,
    "run_control": {
     "read_only": false
    }
   },
   "source": [
    "# Classification\n"
   ]
  },
  {
   "cell_type": "markdown",
   "metadata": {
    "button": false,
    "new_sheet": false,
    "run_control": {
     "read_only": false
    }
   },
   "source": [
    "Now, it is your turn, use the training set to build an accurate model. Then use the test set to report the accuracy of the model\n",
    "You should use the following algorithm:\n",
    "\n",
    "*   K Nearest Neighbor(KNN)\n",
    "*   Decision Tree\n",
    "*   Support Vector Machine\n",
    "*   Logistic Regression\n",
    "\n",
    "\\__ Notice:\\__\n",
    "\n",
    "*   You can go above and change the pre-processing, feature selection, feature-extraction, and so on, to make a better model.\n",
    "*   You should use either scikit-learn, Scipy or Numpy libraries for developing the classification algorithms.\n",
    "*   You should include the code of the algorithm in the following cells.\n"
   ]
  },
  {
   "cell_type": "markdown",
   "metadata": {},
   "source": [
    "## Import Libraries"
   ]
  },
  {
   "cell_type": "code",
   "execution_count": 22,
   "metadata": {},
   "outputs": [],
   "source": [
    "from sklearn.model_selection import KFold, StratifiedKFold, RepeatedStratifiedKFold, train_test_split, cross_val_score\n",
    "from sklearn.metrics         import jaccard_score, f1_score, log_loss, accuracy_score, classification_report\n",
    "\n",
    "from sklearn.neighbors import KNeighborsClassifier\n",
    "from sklearn import svm\n",
    "from sklearn.tree import DecisionTreeClassifier\n",
    "from sklearn.linear_model import LogisticRegression\n",
    "\n",
    "from sklearn.model_selection import GridSearchCV, RandomizedSearchCV\n",
    "\n",
    "# configure the cross-validation procedure\n",
    "kf = StratifiedKFold(n_splits = 10 , shuffle = True , random_state = 42)"
   ]
  },
  {
   "cell_type": "markdown",
   "metadata": {},
   "source": [
    "##  Hyperparameter Tuning Function"
   ]
  },
  {
   "cell_type": "code",
   "execution_count": 23,
   "metadata": {},
   "outputs": [],
   "source": [
    "def tune_hyperparameter(search_method, estimator, search_space):\n",
    "    \n",
    "    # enumerate splits\n",
    "    outer_results = list()\n",
    "    for train_ix, test_ix in kf.split(X,y):\n",
    "            \n",
    "        # split data\n",
    "        X_train, X_test = X[train_ix, :], X[test_ix, :]\n",
    "        y_train, y_test = y[train_ix], y[test_ix]\n",
    "\n",
    "        # configure the cross-validation procedure\n",
    "        cv_inner = KFold(n_splits=5, shuffle=True, random_state=1)\n",
    "\n",
    "        if search_method == \"GridSearch\":\n",
    "            clf = GridSearchCV(\n",
    "                estimator=estimator, \n",
    "                param_grid=search_space, \n",
    "                scoring='accuracy',\n",
    "                n_jobs=-1, \n",
    "                cv=cv_inner, \n",
    "                verbose=0,\n",
    "                refit=True\n",
    "            )\n",
    "        elif search_method == \"RandomSearch\":           \n",
    "            clf = RandomizedSearchCV(\n",
    "                estimator=estimator,\n",
    "                param_distributions=search_space,\n",
    "                n_iter=10,\n",
    "                n_jobs=-1,\n",
    "                cv=cv_inner,\n",
    "                verbose=0,\n",
    "                random_state=1,\n",
    "                refit=True\n",
    "            )\n",
    "            \n",
    "        # execute grid search\n",
    "        result = clf.fit(X_train, y_train)\n",
    "\n",
    "        # get the best performing model fit on the whole training set\n",
    "        best_model = result.best_estimator_\n",
    "\n",
    "        # evaluate model on the hold out dataset\n",
    "        yhat = best_model.predict(X_test)\n",
    "\n",
    "        # evaluate the model\n",
    "        acc = accuracy_score(y_test, yhat)\n",
    "\n",
    "        # store the result\n",
    "        outer_results.append(acc)\n",
    "\n",
    "        # report progress\n",
    "        print('acc=%.3f, est=%.3f, cfg=%s' % (acc, result.best_score_, result.best_params_))\n",
    "        \n",
    "    # summarize the estimated performance of the model\n",
    "    print('Accuracy: %.3f (%.3f)' % (np.mean(outer_results), np.std(outer_results)))\n",
    "\n",
    "    print(\"Best\",search_method,\"Model : \", best_model)\n",
    "    print(\"-\"*50, '\\n\\n')\n",
    "    return best_model"
   ]
  },
  {
   "cell_type": "markdown",
   "metadata": {},
   "source": [
    "# K Nearest Neighbor(KNN)\n",
    "\n",
    "Notice: You should find the best k to build the model with the best accuracy.\\\n",
    "**warning:** You should not use the **loan_test.csv** for finding the best k, however, you can split your train_loan.csv into train and test to find the best **k**.\n"
   ]
  },
  {
   "cell_type": "markdown",
   "metadata": {},
   "source": [
    "#### Compare performance on k = [1, 100]"
   ]
  },
  {
   "cell_type": "code",
   "execution_count": 24,
   "metadata": {},
   "outputs": [
    {
     "name": "stdout",
     "output_type": "stream",
     "text": [
      "\n",
      "k=1\n",
      "Mean train score : 0.7865384615384615 --- Std train score :0.016998934276238293\n",
      "Mean validation score : 0.6326923076923077 --- Std validation score :0.07761706181004062\n",
      "\n",
      "k=2\n",
      "Mean train score : 0.844017094017094 --- Std train score :0.009115696157137405\n",
      "Mean validation score : 0.7173076923076923 --- Std validation score :0.07549148625534816\n",
      "\n",
      "k=3\n",
      "Mean train score : 0.8337606837606837 --- Std train score :0.006743475999170735\n",
      "Mean validation score : 0.7442307692307693 --- Std validation score :0.07094564132960274\n",
      "\n",
      "k=4\n",
      "Mean train score : 0.844017094017094 --- Std train score :0.01122557738167837\n",
      "Mean validation score : 0.7615384615384616 --- Std validation score :0.06213651700539812\n",
      "\n",
      "k=5\n",
      "Mean train score : 0.8418803418803418 --- Std train score :0.011346938502010028\n",
      "Mean validation score : 0.7692307692307694 --- Std validation score :0.057692307692307696\n",
      "\n",
      "k=6\n",
      "Mean train score : 0.8371794871794871 --- Std train score :0.008851416742396569\n",
      "Mean validation score : 0.7807692307692309 --- Std validation score :0.07457969011409737\n",
      "\n",
      "k=7\n",
      "Mean train score : 0.8277777777777777 --- Std train score :0.008119658119658141\n",
      "Mean validation score : 0.7692307692307692 --- Std validation score :0.06549763986894769\n",
      "\n",
      "k=8\n",
      "Mean train score : 0.8211538461538461 --- Std train score :0.008708411911245651\n",
      "Mean validation score : 0.7576923076923077 --- Std validation score :0.06944411571256841\n",
      "\n",
      "k=9\n",
      "Mean train score : 0.8224358974358974 --- Std train score :0.005526716733494701\n",
      "Mean validation score : 0.7615384615384615 --- Std validation score :0.0667282752803749\n",
      "\n",
      "k=10\n",
      "Mean train score : 0.813034188034188 --- Std train score :0.011476964958970754\n",
      "Mean validation score : 0.7499999999999999 --- Std validation score :0.06549763986894769\n",
      "\n",
      "k=11\n",
      "Mean train score : 0.8126068376068376 --- Std train score :0.008708411911245623\n",
      "Mean validation score : 0.7576923076923077 --- Std validation score :0.0678276618790323\n",
      "\n",
      "k=12\n",
      "Mean train score : 0.8032051282051282 --- Std train score :0.00784802037273802\n",
      "Mean validation score : 0.7653846153846153 --- Std validation score :0.06069128399253653\n",
      "\n",
      "k=13\n",
      "Mean train score : 0.8057692307692308 --- Std train score :0.009481499030911864\n",
      "Mean validation score : 0.7673076923076922 --- Std validation score :0.059863009293359144\n",
      "\n",
      "k=14\n",
      "Mean train score : 0.7976495726495727 --- Std train score :0.01077101124882783\n",
      "Mean validation score : 0.7692307692307692 --- Std validation score :0.05704768066996662\n",
      "\n",
      "k=15\n",
      "Mean train score : 0.7995726495726496 --- Std train score :0.007201837412971263\n",
      "Mean validation score : 0.7615384615384615 --- Std validation score :0.049554225872019686\n",
      "\n",
      "k=16\n",
      "Mean train score : 0.791880341880342 --- Std train score :0.009421114395319927\n",
      "Mean validation score : 0.7711538461538461 --- Std validation score :0.06287608740104543\n",
      "\n",
      "k=17\n",
      "Mean train score : 0.7886752136752138 --- Std train score :0.011721015514446563\n",
      "Mean validation score : 0.7596153846153846 --- Std validation score :0.059739325257727176\n",
      "\n",
      "k=18\n",
      "Mean train score : 0.7844017094017095 --- Std train score :0.008463804410401007\n",
      "Mean validation score : 0.7576923076923077 --- Std validation score :0.05384615384615382\n",
      "\n",
      "k=19\n",
      "Mean train score : 0.7848290598290599 --- Std train score :0.00758772688229262\n",
      "Mean validation score : 0.7596153846153847 --- Std validation score :0.05848810125286749\n",
      "\n",
      "k=20\n",
      "Mean train score : 0.7799145299145299 --- Std train score :0.008439494725697192\n",
      "Mean validation score : 0.7615384615384616 --- Std validation score :0.05384615384615383\n",
      "\n",
      "k=21\n",
      "Mean train score : 0.7786324786324786 --- Std train score :0.004983719568243829\n",
      "Mean validation score : 0.7673076923076924 --- Std validation score :0.054697933282030355\n",
      "\n",
      "k=22\n",
      "Mean train score : 0.7754273504273504 --- Std train score :0.008463804410400979\n",
      "Mean validation score : 0.7634615384615384 --- Std validation score :0.053050439323591214\n",
      "\n",
      "k=23\n",
      "Mean train score : 0.7728632478632479 --- Std train score :0.006623931623931633\n",
      "Mean validation score : 0.7653846153846153 --- Std validation score :0.05946009551438578\n",
      "\n",
      "k=24\n",
      "Mean train score : 0.7767094017094017 --- Std train score :0.0044050273777966305\n",
      "Mean validation score : 0.7557692307692307 --- Std validation score :0.05708008492175317\n",
      "\n",
      "k=25\n",
      "Mean train score : 0.7732905982905983 --- Std train score :0.006225983882193782\n",
      "Mean validation score : 0.7653846153846153 --- Std validation score :0.047729514023041736\n",
      "\n",
      "k=26\n",
      "Mean train score : 0.7675213675213675 --- Std train score :0.007926169654269852\n",
      "Mean validation score : 0.7576923076923077 --- Std validation score :0.04880222130942122\n",
      "\n",
      "k=27\n",
      "Mean train score : 0.7651709401709401 --- Std train score :0.008729358211886983\n",
      "Mean validation score : 0.7557692307692307 --- Std validation score :0.05018457057961492\n",
      "\n",
      "k=28\n",
      "Mean train score : 0.7636752136752136 --- Std train score :0.007833462726420258\n",
      "Mean validation score : 0.7480769230769231 --- Std validation score :0.051923076923076905\n",
      "\n",
      "k=29\n",
      "Mean train score : 0.7626068376068376 --- Std train score :0.008409687459040364\n",
      "Mean validation score : 0.7480769230769231 --- Std validation score :0.051205872906516715\n",
      "\n",
      "k=30\n",
      "Mean train score : 0.7621794871794871 --- Std train score :0.0070900256508705526\n",
      "Mean validation score : 0.7557692307692307 --- Std validation score :0.04714481027742792\n",
      "\n",
      "k=31\n",
      "Mean train score : 0.7615384615384615 --- Std train score :0.0073524147581561046\n",
      "Mean validation score : 0.7557692307692307 --- Std validation score :0.04389504696351279\n",
      "\n",
      "k=32\n",
      "Mean train score : 0.7636752136752136 --- Std train score :0.010121982292587192\n",
      "Mean validation score : 0.7538461538461538 --- Std validation score :0.04849815466507111\n",
      "\n",
      "k=33\n",
      "Mean train score : 0.7626068376068376 --- Std train score :0.011405133457335485\n",
      "Mean validation score : 0.7519230769230769 --- Std validation score :0.04252566228364611\n",
      "\n",
      "k=34\n",
      "Mean train score : 0.7626068376068376 --- Std train score :0.008463804410401024\n",
      "Mean validation score : 0.7576923076923077 --- Std validation score :0.0495542258720197\n",
      "\n",
      "k=35\n",
      "Mean train score : 0.7628205128205128 --- Std train score :0.00793768188931912\n",
      "Mean validation score : 0.7615384615384616 --- Std validation score :0.04803844614152613\n",
      "\n",
      "k=36\n",
      "Mean train score : 0.7619658119658119 --- Std train score :0.007656612336396991\n",
      "Mean validation score : 0.7615384615384615 --- Std validation score :0.04317296984739161\n",
      "\n",
      "k=37\n",
      "Mean train score : 0.7621794871794871 --- Std train score :0.008760683760683776\n",
      "Mean validation score : 0.7576923076923077 --- Std validation score :0.044853476114194595\n",
      "\n",
      "k=38\n",
      "Mean train score : 0.7626068376068376 --- Std train score :0.007551537199603559\n",
      "Mean validation score : 0.7538461538461538 --- Std validation score :0.043683910352309785\n",
      "\n",
      "k=39\n",
      "Mean train score : 0.7649572649572649 --- Std train score :0.008547008547008563\n",
      "Mean validation score : 0.7557692307692307 --- Std validation score :0.04714481027742793\n",
      "\n",
      "k=40\n",
      "Mean train score : 0.7636752136752136 --- Std train score :0.006969874542863302\n",
      "Mean validation score : 0.7519230769230768 --- Std validation score :0.044230769230769226\n",
      "\n",
      "k=41\n",
      "Mean train score : 0.7621794871794871 --- Std train score :0.008333333333333337\n",
      "Mean validation score : 0.748076923076923 --- Std validation score :0.044230769230769226\n",
      "\n",
      "k=42\n",
      "Mean train score : 0.7643162393162393 --- Std train score :0.007217669125664351\n",
      "Mean validation score : 0.748076923076923 --- Std validation score :0.04667177345966\n",
      "\n",
      "k=43\n",
      "Mean train score : 0.7634615384615384 --- Std train score :0.007090025650870558\n",
      "Mean validation score : 0.7480769230769231 --- Std validation score :0.04745754876635796\n",
      "\n",
      "k=44\n",
      "Mean train score : 0.7623931623931623 --- Std train score :0.008319624929030683\n",
      "Mean validation score : 0.7519230769230768 --- Std validation score :0.04899130462637308\n",
      "\n",
      "k=45\n",
      "Mean train score : 0.7632478632478632 --- Std train score :0.007751434678297893\n",
      "Mean validation score : 0.7519230769230768 --- Std validation score :0.04899130462637308\n",
      "\n",
      "k=46\n",
      "Mean train score : 0.7611111111111111 --- Std train score :0.006028519649429884\n",
      "Mean validation score : 0.748076923076923 --- Std validation score :0.04423076923076925\n",
      "\n",
      "k=47\n",
      "Mean train score : 0.7623931623931623 --- Std train score :0.0066066772793762175\n",
      "Mean validation score : 0.75 --- Std validation score :0.04385290096535147\n",
      "\n",
      "k=48\n",
      "Mean train score : 0.7608974358974359 --- Std train score :0.007367922927165254\n",
      "Mean validation score : 0.7519230769230768 --- Std validation score :0.038891823877224396\n",
      "\n",
      "k=49\n",
      "Mean train score : 0.760042735042735 --- Std train score :0.007766146087771902\n",
      "Mean validation score : 0.75 --- Std validation score :0.038461538461538464\n",
      "\n",
      "k=50\n",
      "Mean train score : 0.7581196581196581 --- Std train score :0.008040550308643923\n",
      "Mean validation score : 0.7461538461538462 --- Std validation score :0.038268747581023846\n",
      "\n",
      "k=51\n",
      "Mean train score : 0.7579059829059829 --- Std train score :0.00854967906997545\n",
      "Mean validation score : 0.748076923076923 --- Std validation score :0.038891823877224396\n",
      "\n",
      "k=52\n",
      "Mean train score : 0.7581196581196581 --- Std train score :0.006028519649429872\n",
      "Mean validation score : 0.748076923076923 --- Std validation score :0.04252566228364611\n",
      "\n",
      "k=53\n",
      "Mean train score : 0.7581196581196581 --- Std train score :0.007451109305197734\n",
      "Mean validation score : 0.75 --- Std validation score :0.042132504423474305\n",
      "\n",
      "k=54\n",
      "Mean train score : 0.7608974358974359 --- Std train score :0.006651445477039918\n",
      "Mean validation score : 0.7519230769230768 --- Std validation score :0.04164693813020714\n",
      "\n",
      "k=55\n",
      "Mean train score : 0.7608974358974359 --- Std train score :0.006077548142447829\n",
      "Mean validation score : 0.7499999999999999 --- Std validation score :0.038461538461538464\n",
      "\n",
      "k=56\n",
      "Mean train score : 0.7617521367521367 --- Std train score :0.0067738749932253865\n",
      "Mean validation score : 0.7557692307692307 --- Std validation score :0.04217636961434866\n",
      "\n",
      "k=57\n",
      "Mean train score : 0.7626068376068376 --- Std train score :0.00685427988561772\n",
      "Mean validation score : 0.7519230769230769 --- Std validation score :0.04252566228364611\n",
      "\n",
      "k=58\n",
      "Mean train score : 0.7632478632478632 --- Std train score :0.006743475999170746\n",
      "Mean validation score : 0.7519230769230769 --- Std validation score :0.04252566228364611\n",
      "\n",
      "k=59\n",
      "Mean train score : 0.763034188034188 --- Std train score :0.006370962186271627\n",
      "Mean validation score : 0.7519230769230769 --- Std validation score :0.042525662283646105\n",
      "\n",
      "k=60\n",
      "Mean train score : 0.7596153846153846 --- Std train score :0.005909964395700588\n",
      "Mean validation score : 0.7519230769230769 --- Std validation score :0.0433865929718403\n",
      "\n",
      "k=61\n",
      "Mean train score : 0.7604700854700854 --- Std train score :0.004214333957973528\n",
      "Mean validation score : 0.7519230769230768 --- Std validation score :0.04252566228364611\n",
      "\n",
      "k=62\n",
      "Mean train score : 0.757051282051282 --- Std train score :0.004782698565299021\n",
      "Mean validation score : 0.7480769230769231 --- Std validation score :0.0433865929718403\n",
      "\n",
      "k=63\n",
      "Mean train score : 0.7585470085470085 --- Std train score :0.005056478447093713\n",
      "Mean validation score : 0.7480769230769231 --- Std validation score :0.04252566228364611\n",
      "\n",
      "k=64\n",
      "Mean train score : 0.7576923076923077 --- Std train score :0.007290052183432486\n",
      "Mean validation score : 0.7499999999999999 --- Std validation score :0.042132504423474305\n",
      "\n",
      "k=65\n",
      "Mean train score : 0.7574786324786325 --- Std train score :0.005079001847865265\n",
      "Mean validation score : 0.7499999999999999 --- Std validation score :0.04385290096535145\n",
      "\n",
      "k=66\n",
      "Mean train score : 0.7538461538461538 --- Std train score :0.006743475999170728\n",
      "Mean validation score : 0.7519230769230768 --- Std validation score :0.04164693813020714\n",
      "\n",
      "k=67\n",
      "Mean train score : 0.7549145299145299 --- Std train score :0.006760381204938624\n",
      "Mean validation score : 0.7519230769230769 --- Std validation score :0.04338659297184029\n",
      "\n",
      "k=68\n",
      "Mean train score : 0.7525641025641026 --- Std train score :0.006877554247620119\n",
      "Mean validation score : 0.7461538461538462 --- Std validation score :0.04368391035230979\n",
      "\n",
      "k=69\n",
      "Mean train score : 0.7547008547008547 --- Std train score :0.00512820512820511\n",
      "Mean validation score : 0.748076923076923 --- Std validation score :0.0450591327456153\n",
      "\n",
      "k=70\n",
      "Mean train score : 0.7489316239316239 --- Std train score :0.007230309536619048\n",
      "Mean validation score : 0.7442307692307691 --- Std validation score :0.04472962826774232\n",
      "\n",
      "k=71\n",
      "Mean train score : 0.7495726495726496 --- Std train score :0.007264957264957239\n",
      "Mean validation score : 0.7480769230769231 --- Std validation score :0.0450591327456153\n",
      "\n",
      "k=72\n",
      "Mean train score : 0.7474358974358974 --- Std train score :0.006178133459316628\n",
      "Mean validation score : 0.7442307692307693 --- Std validation score :0.04868841885066217\n",
      "\n",
      "k=73\n",
      "Mean train score : 0.7478632478632479 --- Std train score :0.005653314767232012\n",
      "Mean validation score : 0.7480769230769231 --- Std validation score :0.04745754876635795\n",
      "\n",
      "k=74\n",
      "Mean train score : 0.745940170940171 --- Std train score :0.00518575260662887\n",
      "Mean validation score : 0.7461538461538462 --- Std validation score :0.04615384615384617\n",
      "\n",
      "k=75\n",
      "Mean train score : 0.7478632478632479 --- Std train score :0.007086805107596983\n",
      "Mean validation score : 0.7499999999999999 --- Std validation score :0.05014771080925114\n",
      "\n",
      "k=76\n",
      "Mean train score : 0.7427350427350428 --- Std train score :0.0072900521834324775\n",
      "Mean validation score : 0.7384615384615384 --- Std validation score :0.04726232972094042\n",
      "\n",
      "k=77\n",
      "Mean train score : 0.7467948717948718 --- Std train score :0.008453008737116414\n",
      "Mean validation score : 0.7442307692307691 --- Std validation score :0.04868841885066217\n",
      "\n",
      "k=78\n",
      "Mean train score : 0.7444444444444445 --- Std train score :0.00961301015316408\n",
      "Mean validation score : 0.7326923076923076 --- Std validation score :0.048230523861478664\n",
      "\n",
      "k=79\n",
      "Mean train score : 0.7478632478632479 --- Std train score :0.008493421758269986\n",
      "Mean validation score : 0.7403846153846153 --- Std validation score :0.04730143798557248\n",
      "\n",
      "k=80\n",
      "Mean train score : 0.7455128205128205 --- Std train score :0.008020651444069849\n",
      "Mean validation score : 0.7384615384615384 --- Std validation score :0.04880222130942123\n",
      "\n",
      "k=81\n",
      "Mean train score : 0.7487179487179487 --- Std train score :0.007227151506533207\n",
      "Mean validation score : 0.7442307692307691 --- Std validation score :0.04792282997837351\n",
      "\n",
      "k=82\n",
      "Mean train score : 0.7461538461538462 --- Std train score :0.009401709401709401\n",
      "Mean validation score : 0.7442307692307691 --- Std validation score :0.04868841885066217\n",
      "\n",
      "k=83\n",
      "Mean train score : 0.7495726495726496 --- Std train score :0.006743475999170702\n",
      "Mean validation score : 0.7442307692307691 --- Std validation score :0.04868841885066217\n",
      "\n",
      "k=84\n",
      "Mean train score : 0.7467948717948718 --- Std train score :0.009567783409076103\n",
      "Mean validation score : 0.7442307692307691 --- Std validation score :0.04868841885066217\n",
      "\n",
      "k=85\n",
      "Mean train score : 0.7497863247863248 --- Std train score :0.007305692733879811\n",
      "Mean validation score : 0.7461538461538462 --- Std validation score :0.05073425368566508\n",
      "\n",
      "k=86\n",
      "Mean train score : 0.7485042735042735 --- Std train score :0.008111219186368477\n",
      "Mean validation score : 0.7442307692307691 --- Std validation score :0.05163739070037521\n",
      "\n",
      "k=87\n",
      "Mean train score : 0.7523504273504273 --- Std train score :0.0067873419548156125\n",
      "Mean validation score : 0.7442307692307691 --- Std validation score :0.050916162672591254\n",
      "\n",
      "k=88\n",
      "Mean train score : 0.7487179487179487 --- Std train score :0.00558833197889828\n",
      "Mean validation score : 0.7442307692307691 --- Std validation score :0.050916162672591254\n",
      "\n",
      "k=89\n",
      "Mean train score : 0.7489316239316239 --- Std train score :0.00642803801559456\n",
      "Mean validation score : 0.7461538461538462 --- Std validation score :0.05073425368566507\n",
      "\n",
      "k=90\n",
      "Mean train score : 0.7467948717948718 --- Std train score :0.005168113941217\n",
      "Mean validation score : 0.7403846153846153 --- Std validation score :0.05318967956130512\n",
      "\n",
      "k=91\n",
      "Mean train score : 0.7480769230769231 --- Std train score :0.006651445477039882\n",
      "Mean validation score : 0.7442307692307691 --- Std validation score :0.050916162672591254\n",
      "\n",
      "k=92\n",
      "Mean train score : 0.7423076923076923 --- Std train score :0.009613010153164096\n",
      "Mean validation score : 0.7384615384615384 --- Std validation score :0.05029498781008471\n",
      "\n",
      "k=93\n",
      "Mean train score : 0.7465811965811966 --- Std train score :0.008175695072525201\n",
      "Mean validation score : 0.7442307692307691 --- Std validation score :0.051637390700375214\n",
      "\n",
      "k=94\n",
      "Mean train score : 0.739957264957265 --- Std train score :0.012715021834881907\n",
      "Mean validation score : 0.7307692307692307 --- Std validation score :0.05958435917242182\n",
      "\n",
      "k=95\n",
      "Mean train score : 0.7444444444444445 --- Std train score :0.012244913488798628\n",
      "Mean validation score : 0.7384615384615384 --- Std validation score :0.0650443635587991\n",
      "\n",
      "k=96\n",
      "Mean train score : 0.7416666666666667 --- Std train score :0.012907468641486286\n",
      "Mean validation score : 0.7326923076923076 --- Std validation score :0.06047763535967843\n",
      "\n",
      "k=97\n",
      "Mean train score : 0.744017094017094 --- Std train score :0.01347340407729439\n",
      "Mean validation score : 0.7384615384615385 --- Std validation score :0.051024996774698454\n",
      "\n",
      "k=98\n",
      "Mean train score : 0.7401709401709402 --- Std train score :0.014623879172879198\n",
      "Mean validation score : 0.7365384615384616 --- Std validation score :0.050916162672591254\n",
      "\n",
      "k=99\n",
      "Mean train score : 0.7455128205128205 --- Std train score :0.013221990174705106\n",
      "Mean validation score : 0.7384615384615385 --- Std validation score :0.051024996774698454\n",
      "\n",
      "Overall Mean Accuracy: 0.7498057498057498\n",
      "Overall Std Accuracy: 0.05057465864595813\n",
      "CPU times: user 28.1 s, sys: 60.3 ms, total: 28.1 s\n",
      "Wall time: 28.2 s\n"
     ]
    }
   ],
   "source": [
    "%%time\n",
    "Ks = 100\n",
    "mean_acc = []\n",
    "std_acc = []\n",
    "\n",
    "for n in range(1,Ks):\n",
    "    \n",
    "    train_scores, validation_scores = [], []\n",
    "\n",
    "    for fold, (tr_index , val_index) in enumerate(kf.split(X , y)): \n",
    "        X_train,X_val = X[tr_index] , X[val_index]\n",
    "        y_train,y_val = y[tr_index] , y[val_index]\n",
    "\n",
    "        model_knn = KNeighborsClassifier(n_neighbors = n)\n",
    "        model_knn.fit(X_train,y_train)\n",
    "\n",
    "        accuracy_score_train = accuracy_score(y_train, model_knn.predict(X_train))\n",
    "        accuracy_score_validation = accuracy_score(y_val, model_knn.predict(X_val))\n",
    "\n",
    "        train_scores.append(accuracy_score_train)\n",
    "        validation_scores.append(accuracy_score_validation)\n",
    "    print(f'\\nk={n}')\n",
    "    print(f'Mean train score : {np.mean(train_scores)} --- Std train score :{np.std(train_scores)}')\n",
    "    print(f'Mean validation score : {np.mean(validation_scores)} --- Std validation score :{np.std(validation_scores)}')\n",
    "    \n",
    "    mean_acc.append(np.mean(validation_scores))\n",
    "    std_acc.append(np.std(validation_scores))\n",
    "\n",
    "print(f'\\nOverall Mean Accuracy: {np.mean(mean_acc)}')\n",
    "print(f'Overall Std Accuracy: {np.mean(std_acc)}')"
   ]
  },
  {
   "cell_type": "markdown",
   "metadata": {},
   "source": [
    "### KNN Models Accuracy Plot"
   ]
  },
  {
   "cell_type": "code",
   "execution_count": 25,
   "metadata": {},
   "outputs": [
    {
     "name": "stdout",
     "output_type": "stream",
     "text": [
      "\n",
      "\n",
      "Maximum accuracy:- 0.7807692307692309 at K = 6\n"
     ]
    },
    {
     "data": {
      "text/plain": [
       "Text(0, 0.5, 'Accuracy')"
      ]
     },
     "execution_count": 25,
     "metadata": {},
     "output_type": "execute_result"
    },
    {
     "data": {
      "image/png": "[encoded data removed]",
      "text/plain": [
       "<Figure size 720x432 with 1 Axes>"
      ]
     },
     "metadata": {
      "needs_background": "light"
     },
     "output_type": "display_data"
    }
   ],
   "source": [
    "print(\"\\n\\nMaximum accuracy:-\",max(mean_acc),\"at K =\",mean_acc.index(max(mean_acc))+1)\n",
    "\n",
    "plt.figure(figsize=(10,6))\n",
    "plt.plot(range(1,100),mean_acc,color = 'blue',linestyle='dashed', \n",
    "         marker='o',markerfacecolor='red', markersize=10)\n",
    "plt.title('accuracy vs. K Value')\n",
    "plt.xlabel('K')\n",
    "plt.ylabel('Accuracy')"
   ]
  },
  {
   "cell_type": "markdown",
   "metadata": {},
   "source": [
    "## KNN Classifier with Best k value"
   ]
  },
  {
   "cell_type": "code",
   "execution_count": 26,
   "metadata": {},
   "outputs": [
    {
     "name": "stdout",
     "output_type": "stream",
     "text": [
      "Mean train score : 0.8371794871794871 --- Std train score :0.008851416742396569\n",
      "Mean validation score : 0.7807692307692309 --- Std validation score :0.07457969011409737\n",
      "CPU times: user 229 ms, sys: 10 µs, total: 229 ms\n",
      "Wall time: 227 ms\n"
     ]
    }
   ],
   "source": [
    "%%time\n",
    "\n",
    "train_scores, validation_scores = [], []\n",
    "\n",
    "for fold, (tr_index , val_index) in enumerate(kf.split(X , y)): \n",
    "    X_train,X_val = X[tr_index] , X[val_index]\n",
    "    y_train,y_val = y[tr_index] , y[val_index]\n",
    "\n",
    "    model_knn_6 = KNeighborsClassifier(n_neighbors = 6)\n",
    "    model_knn_6.fit(X_train,y_train)\n",
    "\n",
    "    accuracy_score_train = accuracy_score(y_train, model_knn_6.predict(X_train))\n",
    "    accuracy_score_validation = accuracy_score(y_val, model_knn_6.predict(X_val))\n",
    "\n",
    "    train_scores.append(accuracy_score_train)\n",
    "    validation_scores.append(accuracy_score_validation)\n",
    "\n",
    "print(f'Mean train score : {np.mean(train_scores)} --- Std train score :{np.std(train_scores)}')\n",
    "print(f'Mean validation score : {np.mean(validation_scores)} --- Std validation score :{np.std(validation_scores)}')\n"
   ]
  },
  {
   "cell_type": "markdown",
   "metadata": {},
   "source": [
    "## Extended Hyperparameter Tuning KNN"
   ]
  },
  {
   "cell_type": "code",
   "execution_count": 27,
   "metadata": {},
   "outputs": [
    {
     "name": "stdout",
     "output_type": "stream",
     "text": [
      "acc=0.731, est=0.821, cfg={'algorithm': 'ball_tree', 'leaf_size': 10, 'n_neighbors': 6, 'p': 2, 'weights': 'distance'}\n",
      "acc=0.788, est=0.788, cfg={'algorithm': 'ball_tree', 'leaf_size': 1, 'n_neighbors': 6, 'p': 2, 'weights': 'distance'}\n",
      "acc=0.769, est=0.808, cfg={'algorithm': 'ball_tree', 'leaf_size': 1, 'n_neighbors': 6, 'p': 2, 'weights': 'distance'}\n",
      "acc=0.692, est=0.816, cfg={'algorithm': 'brute', 'leaf_size': 1, 'n_neighbors': 6, 'p': 2, 'weights': 'distance'}\n",
      "acc=0.769, est=0.814, cfg={'algorithm': 'ball_tree', 'leaf_size': 1, 'n_neighbors': 6, 'p': 2, 'weights': 'distance'}\n",
      "acc=0.788, est=0.791, cfg={'algorithm': 'ball_tree', 'leaf_size': 1, 'n_neighbors': 6, 'p': 1, 'weights': 'distance'}\n",
      "acc=0.750, est=0.806, cfg={'algorithm': 'ball_tree', 'leaf_size': 1, 'n_neighbors': 6, 'p': 1, 'weights': 'distance'}\n",
      "acc=0.923, est=0.780, cfg={'algorithm': 'ball_tree', 'leaf_size': 10, 'n_neighbors': 6, 'p': 2, 'weights': 'distance'}\n",
      "acc=0.827, est=0.808, cfg={'algorithm': 'brute', 'leaf_size': 1, 'n_neighbors': 6, 'p': 2, 'weights': 'distance'}\n",
      "acc=0.904, est=0.786, cfg={'algorithm': 'ball_tree', 'leaf_size': 1, 'n_neighbors': 6, 'p': 2, 'weights': 'distance'}\n",
      "Accuracy: 0.794 (0.069)\n",
      "Best GridSearch Model :  KNeighborsClassifier(algorithm='ball_tree', leaf_size=1, n_neighbors=6,\n",
      "                     weights='distance')\n",
      "-------------------------------------------------- \n",
      "\n",
      "\n",
      "acc=0.731, est=0.821, cfg={'algorithm': 'kd_tree', 'leaf_size': 716, 'n_neighbors': 6, 'p': 2, 'weights': 'distance'}\n",
      "acc=0.788, est=0.788, cfg={'algorithm': 'kd_tree', 'leaf_size': 716, 'n_neighbors': 6, 'p': 2, 'weights': 'distance'}\n",
      "acc=0.769, est=0.808, cfg={'algorithm': 'kd_tree', 'leaf_size': 716, 'n_neighbors': 6, 'p': 2, 'weights': 'distance'}\n",
      "acc=0.692, est=0.816, cfg={'algorithm': 'brute', 'leaf_size': 581, 'n_neighbors': 6, 'p': 2, 'weights': 'distance'}\n",
      "acc=0.769, est=0.814, cfg={'algorithm': 'kd_tree', 'leaf_size': 716, 'n_neighbors': 6, 'p': 2, 'weights': 'distance'}\n",
      "acc=0.788, est=0.791, cfg={'algorithm': 'kd_tree', 'leaf_size': 716, 'n_neighbors': 6, 'p': 2, 'weights': 'distance'}\n",
      "acc=0.750, est=0.806, cfg={'algorithm': 'kd_tree', 'leaf_size': 509, 'n_neighbors': 6, 'p': 1, 'weights': 'distance'}\n",
      "acc=0.923, est=0.778, cfg={'algorithm': 'kd_tree', 'leaf_size': 716, 'n_neighbors': 6, 'p': 2, 'weights': 'distance'}\n",
      "acc=0.827, est=0.808, cfg={'algorithm': 'brute', 'leaf_size': 581, 'n_neighbors': 6, 'p': 2, 'weights': 'distance'}\n",
      "acc=0.904, est=0.786, cfg={'algorithm': 'kd_tree', 'leaf_size': 716, 'n_neighbors': 6, 'p': 2, 'weights': 'distance'}\n",
      "Accuracy: 0.794 (0.069)\n",
      "Best RandomSearch Model :  KNeighborsClassifier(algorithm='kd_tree', leaf_size=716, n_neighbors=6,\n",
      "                     weights='distance')\n",
      "-------------------------------------------------- \n",
      "\n",
      "\n",
      "CPU times: user 1.14 s, sys: 141 ms, total: 1.28 s\n",
      "Wall time: 6.63 s\n"
     ]
    }
   ],
   "source": [
    "%%time\n",
    "\n",
    "knn_model = KNeighborsClassifier()\n",
    "\n",
    "knn_params_grid = {\n",
    "#     \"n_neighbors\": [i for i in range(1,30)],\n",
    "    \"n_neighbors\": [6],\n",
    "    \"weights\": [\"uniform\", \"distance\"],\n",
    "    \"algorithm\": [\"ball_tree\", \"kd_tree\", \"brute\"],\n",
    "    \"leaf_size\": [1, 10, 30],\n",
    "    \"p\": [1,2]\n",
    "}\n",
    "\n",
    "knn_params_random = {\n",
    "    \"n_neighbors\": [6],\n",
    "    \"weights\": [\"uniform\", \"distance\"],\n",
    "    \"algorithm\": [\"ball_tree\", \"kd_tree\", \"brute\"],\n",
    "    \"leaf_size\": scipy.stats.randint(1,1000),\n",
    "    \"p\": [1,2]\n",
    "}\n",
    "\n",
    "best_knn_grid_searched_model = tune_hyperparameter('GridSearch', knn_model, knn_params_grid)\n",
    "best_knn_randomized_searched_model = tune_hyperparameter('RandomSearch', knn_model, knn_params_random)"
   ]
  },
  {
   "cell_type": "markdown",
   "metadata": {},
   "source": [
    "# Decision Tree\n"
   ]
  },
  {
   "cell_type": "markdown",
   "metadata": {},
   "source": [
    "### Modeling"
   ]
  },
  {
   "cell_type": "code",
   "execution_count": 28,
   "metadata": {},
   "outputs": [
    {
     "name": "stdout",
     "output_type": "stream",
     "text": [
      "Mean train score : 0.8314102564102563 --- Std train score :0.010660230498518311\n",
      "Mean validation score : 0.7923076923076922 --- Std validation score :0.03922322702763681\n",
      "CPU times: user 19.4 ms, sys: 102 µs, total: 19.5 ms\n",
      "Wall time: 19.8 ms\n"
     ]
    }
   ],
   "source": [
    "%%time\n",
    "\n",
    "train_scores, validation_scores = [], []\n",
    "\n",
    "for fold, (tr_index , val_index) in enumerate(kf.split(X , y)): \n",
    "    X_train,X_val = X[tr_index] , X[val_index]\n",
    "    y_train,y_val = y[tr_index] , y[val_index]\n",
    "\n",
    "    model_decision_tree = DecisionTreeClassifier(criterion=\"entropy\", max_depth = 6)\n",
    "    model_decision_tree.fit(X_train,y_train)\n",
    "\n",
    "    accuracy_score_train = accuracy_score(y_train, model_decision_tree.predict(X_train))\n",
    "    accuracy_score_validation = accuracy_score(y_val, model_decision_tree.predict(X_val))\n",
    "\n",
    "    train_scores.append(accuracy_score_train)\n",
    "    validation_scores.append(accuracy_score_validation)\n",
    "\n",
    "print(f'Mean train score : {np.mean(train_scores)} --- Std train score :{np.std(train_scores)}')\n",
    "print(f'Mean validation score : {np.mean(validation_scores)} --- Std validation score :{np.std(validation_scores)}')\n"
   ]
  },
  {
   "cell_type": "markdown",
   "metadata": {},
   "source": [
    "## Hyperparameter Tuning Decision Tree"
   ]
  },
  {
   "cell_type": "code",
   "execution_count": 29,
   "metadata": {},
   "outputs": [
    {
     "name": "stdout",
     "output_type": "stream",
     "text": [
      "acc=0.692, est=0.795, cfg={'criterion': 'entropy', 'max_depth': 20, 'min_samples_leaf': 5}\n",
      "acc=0.827, est=0.761, cfg={'criterion': 'entropy', 'max_depth': 6, 'min_samples_leaf': 5}\n",
      "acc=0.827, est=0.774, cfg={'criterion': 'entropy', 'max_depth': 5, 'min_samples_leaf': 5}\n",
      "acc=0.750, est=0.786, cfg={'criterion': 'entropy', 'max_depth': 5, 'min_samples_leaf': 5}\n",
      "acc=0.692, est=0.771, cfg={'criterion': 'entropy', 'max_depth': 6, 'min_samples_leaf': 5}\n",
      "acc=0.731, est=0.769, cfg={'criterion': 'entropy', 'max_depth': 5, 'min_samples_leaf': 5}\n",
      "acc=0.827, est=0.767, cfg={'criterion': 'entropy', 'max_depth': 6, 'min_samples_leaf': 5}\n",
      "acc=0.750, est=0.752, cfg={'criterion': 'entropy', 'max_depth': 3, 'min_samples_leaf': 5}\n",
      "acc=0.769, est=0.757, cfg={'criterion': 'gini', 'max_depth': 10, 'min_samples_leaf': 10}\n",
      "acc=0.846, est=0.795, cfg={'criterion': 'gini', 'max_depth': 10, 'min_samples_leaf': 5}\n",
      "Accuracy: 0.771 (0.055)\n",
      "Best GridSearch Model :  DecisionTreeClassifier(max_depth=10, min_samples_leaf=5, random_state=42)\n",
      "-------------------------------------------------- \n",
      "\n",
      "\n",
      "acc=0.692, est=0.791, cfg={'min_samples_leaf': 5, 'max_depth': 10, 'criterion': 'entropy'}\n",
      "acc=0.846, est=0.759, cfg={'min_samples_leaf': 5, 'max_depth': 5, 'criterion': 'entropy'}\n",
      "acc=0.827, est=0.774, cfg={'min_samples_leaf': 5, 'max_depth': 5, 'criterion': 'entropy'}\n",
      "acc=0.750, est=0.786, cfg={'min_samples_leaf': 5, 'max_depth': 5, 'criterion': 'entropy'}\n",
      "acc=0.673, est=0.767, cfg={'min_samples_leaf': 5, 'max_depth': 5, 'criterion': 'entropy'}\n",
      "acc=0.731, est=0.769, cfg={'min_samples_leaf': 5, 'max_depth': 5, 'criterion': 'entropy'}\n",
      "acc=0.788, est=0.765, cfg={'min_samples_leaf': 5, 'max_depth': 5, 'criterion': 'entropy'}\n",
      "acc=0.750, est=0.752, cfg={'min_samples_leaf': 5, 'max_depth': 3, 'criterion': 'entropy'}\n",
      "acc=0.769, est=0.750, cfg={'min_samples_leaf': 5, 'max_depth': 5, 'criterion': 'entropy'}\n",
      "acc=0.827, est=0.789, cfg={'min_samples_leaf': 5, 'max_depth': 10, 'criterion': 'entropy'}\n",
      "Accuracy: 0.765 (0.055)\n",
      "Best RandomSearch Model :  DecisionTreeClassifier(criterion='entropy', max_depth=10, min_samples_leaf=5,\n",
      "                       random_state=42)\n",
      "-------------------------------------------------- \n",
      "\n",
      "\n",
      "CPU times: user 1.28 s, sys: 74.9 ms, total: 1.36 s\n",
      "Wall time: 3.54 s\n"
     ]
    }
   ],
   "source": [
    "%%time\n",
    "\n",
    "dtree_model = DecisionTreeClassifier(random_state=42)\n",
    "\n",
    "dtree_params = {\n",
    "    'max_depth': [2, 3, 5, 6, 10, 20],\n",
    "    'min_samples_leaf': [5, 10, 20, 50, 100],\n",
    "    'criterion': [\"gini\", \"entropy\"]\n",
    "}\n",
    "\n",
    "# dtc_param = {\n",
    "#     \"max_depth\": [None],\n",
    "#     \"min_samples_split\": [2],\n",
    "#     \"min_samples_leaf\": [1],\n",
    "#     \"min_weight_fraction_leaf\": [0.],\n",
    "#     \"max_features\": [None],\n",
    "#     \"random_state\": [4],\n",
    "#     \"max_leaf_nodes\": [None], # None = infinity or int\n",
    "#     \"presort\": [True, False]\n",
    "# }\n",
    "\n",
    "best_dtree_grid_searched_model = tune_hyperparameter('GridSearch', dtree_model, dtree_params)\n",
    "best_dtree_randomized_searched_model = tune_hyperparameter('RandomSearch', dtree_model, dtree_params)"
   ]
  },
  {
   "cell_type": "markdown",
   "metadata": {},
   "source": [
    "# Support Vector Machine\n"
   ]
  },
  {
   "cell_type": "markdown",
   "metadata": {},
   "source": [
    "### Modeling"
   ]
  },
  {
   "cell_type": "code",
   "execution_count": 30,
   "metadata": {},
   "outputs": [
    {
     "name": "stdout",
     "output_type": "stream",
     "text": [
      "Mean train score : 0.775 --- Std train score :0.0054935727060608525\n",
      "Mean validation score : 0.775 --- Std validation score :0.04944215435454783\n",
      "CPU times: user 91.6 ms, sys: 0 ns, total: 91.6 ms\n",
      "Wall time: 91.6 ms\n"
     ]
    }
   ],
   "source": [
    "%%time\n",
    "train_scores, validation_scores = [], []\n",
    "\n",
    "for fold, (tr_index , val_index) in enumerate(kf.split(X , y)): \n",
    "    X_train,X_val = X[tr_index] , X[val_index]\n",
    "    y_train,y_val = y[tr_index] , y[val_index]\n",
    "\n",
    "    model_svm = svm.SVC(kernel='linear')\n",
    "    model_svm.fit(X_train,y_train)\n",
    "\n",
    "    accuracy_score_train = accuracy_score(y_train, model_svm.predict(X_train))\n",
    "    accuracy_score_validation = accuracy_score(y_val, model_svm.predict(X_val))\n",
    "\n",
    "    train_scores.append(accuracy_score_train)\n",
    "    validation_scores.append(accuracy_score_validation)\n",
    "\n",
    "print(f'Mean train score : {np.mean(train_scores)} --- Std train score :{np.std(train_scores)}')\n",
    "print(f'Mean validation score : {np.mean(validation_scores)} --- Std validation score :{np.std(validation_scores)}')"
   ]
  },
  {
   "cell_type": "markdown",
   "metadata": {},
   "source": [
    "## Hyperparameter Tuning SVM"
   ]
  },
  {
   "cell_type": "code",
   "execution_count": 31,
   "metadata": {},
   "outputs": [
    {
     "name": "stdout",
     "output_type": "stream",
     "text": [
      "acc=0.712, est=0.819, cfg={'C': 1, 'gamma': 1, 'kernel': 'rbf'}\n",
      "acc=0.827, est=0.788, cfg={'C': 1, 'gamma': 1, 'kernel': 'rbf'}\n",
      "acc=0.788, est=0.799, cfg={'C': 1, 'gamma': 1, 'kernel': 'rbf'}\n",
      "acc=0.712, est=0.801, cfg={'C': 100, 'gamma': 0.1, 'kernel': 'rbf'}\n",
      "acc=0.654, est=0.791, cfg={'C': 100, 'gamma': 0.001, 'kernel': 'rbf'}\n",
      "acc=0.808, est=0.793, cfg={'C': 1, 'gamma': 1, 'kernel': 'rbf'}\n",
      "acc=0.827, est=0.786, cfg={'C': 1, 'gamma': 1, 'kernel': 'rbf'}\n",
      "acc=0.942, est=0.784, cfg={'C': 1, 'gamma': 1, 'kernel': 'rbf'}\n",
      "acc=0.808, est=0.801, cfg={'C': 1, 'gamma': 1, 'kernel': 'rbf'}\n",
      "acc=0.846, est=0.784, cfg={'C': 1, 'gamma': 1, 'kernel': 'rbf'}\n",
      "Accuracy: 0.792 (0.078)\n",
      "Best GridSearch Model :  SVC(C=1, gamma=1, random_state=42)\n",
      "-------------------------------------------------- \n",
      "\n",
      "\n",
      "acc=0.712, est=0.748, cfg={'C': 0.011078933350566445, 'gamma': 0.02741695987651143, 'kernel': 'linear'}\n",
      "acc=0.788, est=0.741, cfg={'C': 0.011078933350566445, 'gamma': 0.02741695987651143, 'kernel': 'linear'}\n",
      "acc=0.788, est=0.744, cfg={'C': 0.011078933350566445, 'gamma': 0.02741695987651143, 'kernel': 'linear'}\n",
      "acc=0.769, est=0.746, cfg={'C': 0.011078933350566445, 'gamma': 0.02741695987651143, 'kernel': 'linear'}\n",
      "acc=0.654, est=0.752, cfg={'C': 0.011078933350566445, 'gamma': 0.02741695987651143, 'kernel': 'linear'}\n",
      "acc=0.731, est=0.750, cfg={'C': 0.011078933350566445, 'gamma': 0.02741695987651143, 'kernel': 'linear'}\n",
      "acc=0.750, est=0.746, cfg={'C': 0.011078933350566445, 'gamma': 0.02741695987651143, 'kernel': 'linear'}\n",
      "acc=0.731, est=0.748, cfg={'C': 0.011078933350566445, 'gamma': 0.02741695987651143, 'kernel': 'linear'}\n",
      "acc=0.808, est=0.744, cfg={'C': 0.011078933350566445, 'gamma': 0.02741695987651143, 'kernel': 'linear'}\n",
      "acc=0.827, est=0.733, cfg={'C': 0.011078933350566445, 'gamma': 0.02741695987651143, 'kernel': 'linear'}\n",
      "Accuracy: 0.756 (0.049)\n",
      "Best RandomSearch Model :  SVC(C=0.011078933350566445, gamma=0.02741695987651143, kernel='linear',\n",
      "    random_state=42)\n",
      "-------------------------------------------------- \n",
      "\n",
      "\n",
      "CPU times: user 2.23 s, sys: 89.6 ms, total: 2.32 s\n",
      "Wall time: 16min 9s\n"
     ]
    }
   ],
   "source": [
    "%%time\n",
    "svm_model = svm.SVC(random_state=42)\n",
    "\n",
    "svm_param_grid = {\n",
    "    'C': [0.1, 1, 10, 100, 100], \n",
    "    'gamma': [1, 0.1, 0.01, 0.001, 0.0001],\n",
    "    'kernel': ['linear','rbf', 'poly', 'sigmoid']\n",
    "}\n",
    "\n",
    "svm_param_random = {\n",
    "    \"C\": scipy.stats.expon(scale=.01),\n",
    "    \"gamma\": scipy.stats.expon(scale=.01),\n",
    "    \"kernel\": ['linear','rbf', 'poly', 'sigmoid']\n",
    "}\n",
    "\n",
    "best_svm_grid_searched_model = tune_hyperparameter('GridSearch', svm_model, svm_param_grid)\n",
    "best_svm_randomized_searched_model = tune_hyperparameter('RandomSearch', svm_model, svm_param_random)"
   ]
  },
  {
   "cell_type": "markdown",
   "metadata": {},
   "source": [
    "# Logistic Regression\n"
   ]
  },
  {
   "cell_type": "markdown",
   "metadata": {},
   "source": [
    "### Modeling"
   ]
  },
  {
   "cell_type": "code",
   "execution_count": 32,
   "metadata": {},
   "outputs": [
    {
     "name": "stdout",
     "output_type": "stream",
     "text": [
      "Mean train score : 0.764102564102564 --- Std train score :0.005588331978898325\n",
      "Mean validation score : 0.7653846153846153 --- Std validation score :0.052171769100963605\n",
      "CPU times: user 21.2 ms, sys: 28 µs, total: 21.2 ms\n",
      "Wall time: 24.7 ms\n"
     ]
    }
   ],
   "source": [
    "%%time\n",
    "train_scores, validation_scores = [], []\n",
    "\n",
    "for fold, (tr_index , val_index) in enumerate(kf.split(X , y)): \n",
    "    X_train,X_val = X[tr_index] , X[val_index]\n",
    "    y_train,y_val = y[tr_index] , y[val_index]\n",
    "\n",
    "    model_LR = LogisticRegression(C=0.01, solver='liblinear')\n",
    "    model_LR.fit(X_train,y_train)\n",
    "\n",
    "    accuracy_score_train = accuracy_score(y_train, model_LR.predict(X_train))\n",
    "    accuracy_score_validation = accuracy_score(y_val, model_LR.predict(X_val))\n",
    "\n",
    "    train_scores.append(accuracy_score_train)\n",
    "    validation_scores.append(accuracy_score_validation)\n",
    "\n",
    "print(f'Mean train score : {np.mean(train_scores)} --- Std train score :{np.std(train_scores)}')\n",
    "print(f'Mean validation score : {np.mean(validation_scores)} --- Std validation score :{np.std(validation_scores)}')"
   ]
  },
  {
   "cell_type": "markdown",
   "metadata": {},
   "source": [
    "## Hyperparameter Tuning Logistic Regression"
   ]
  },
  {
   "cell_type": "code",
   "execution_count": 33,
   "metadata": {},
   "outputs": [
    {
     "name": "stdout",
     "output_type": "stream",
     "text": [
      "acc=0.769, est=0.774, cfg={'C': 0.1, 'fit_intercept': True, 'random_state': 42, 'warm_start': True}\n",
      "acc=0.808, est=0.765, cfg={'C': 100, 'fit_intercept': False, 'random_state': 42, 'warm_start': True}\n",
      "acc=0.731, est=0.774, cfg={'C': 10, 'fit_intercept': False, 'random_state': 42, 'warm_start': True}\n",
      "acc=0.808, est=0.756, cfg={'C': 0.1, 'fit_intercept': False, 'random_state': 42, 'warm_start': True}\n",
      "acc=0.712, est=0.795, cfg={'C': 10, 'fit_intercept': True, 'random_state': 42, 'warm_start': True}\n",
      "acc=0.712, est=0.786, cfg={'C': 10, 'fit_intercept': True, 'random_state': 42, 'warm_start': True}\n",
      "acc=0.750, est=0.767, cfg={'C': 0.01, 'fit_intercept': False, 'random_state': 42, 'warm_start': True}\n",
      "acc=0.827, est=0.769, cfg={'C': 100, 'fit_intercept': False, 'random_state': 42, 'warm_start': True}\n",
      "acc=0.808, est=0.778, cfg={'C': 10, 'fit_intercept': False, 'random_state': 42, 'warm_start': True}\n",
      "acc=0.769, est=0.761, cfg={'C': 10, 'fit_intercept': True, 'random_state': 42, 'warm_start': True}\n",
      "Accuracy: 0.769 (0.040)\n",
      "Best GridSearch Model :  LogisticRegression(C=10, random_state=42, warm_start=True)\n",
      "-------------------------------------------------- \n",
      "\n",
      "\n",
      "acc=0.769, est=0.771, cfg={'C': 0.0015127291958193562, 'fit_intercept': True, 'random_state': 42, 'warm_start': True}\n",
      "acc=0.808, est=0.761, cfg={'C': 0.005400910464444293, 'fit_intercept': False, 'random_state': 42, 'warm_start': False}\n",
      "acc=0.750, est=0.771, cfg={'C': 0.002061146340820805, 'fit_intercept': False, 'random_state': 42, 'warm_start': True}\n",
      "acc=0.808, est=0.763, cfg={'C': 1.1438135864308593e-06, 'fit_intercept': False, 'random_state': 42, 'warm_start': False}\n",
      "acc=0.635, est=0.780, cfg={'C': 0.005054525417107485, 'fit_intercept': True, 'random_state': 42, 'warm_start': True}\n",
      "acc=0.731, est=0.769, cfg={'C': 0.0022872440752683032, 'fit_intercept': True, 'random_state': 42, 'warm_start': True}\n",
      "acc=0.750, est=0.767, cfg={'C': 0.002061146340820805, 'fit_intercept': False, 'random_state': 42, 'warm_start': True}\n",
      "acc=0.692, est=0.763, cfg={'C': 1.1438135864308593e-06, 'fit_intercept': False, 'random_state': 42, 'warm_start': False}\n",
      "acc=0.808, est=0.763, cfg={'C': 1.1438135864308593e-06, 'fit_intercept': False, 'random_state': 42, 'warm_start': False}\n",
      "acc=0.788, est=0.769, cfg={'C': 1.1438135864308593e-06, 'fit_intercept': False, 'random_state': 42, 'warm_start': False}\n",
      "Accuracy: 0.754 (0.054)\n",
      "Best RandomSearch Model :  LogisticRegression(C=1.1438135864308593e-06, fit_intercept=False,\n",
      "                   random_state=42)\n",
      "-------------------------------------------------- \n",
      "\n",
      "\n",
      "CPU times: user 893 ms, sys: 89.4 ms, total: 982 ms\n",
      "Wall time: 3.55 s\n"
     ]
    }
   ],
   "source": [
    "%%time\n",
    "lr_model = LogisticRegression(random_state=42)\n",
    "\n",
    "lr_param_grid = {'C': [0.01, 0.1, 10, 100],\n",
    " 'fit_intercept': [True, False],\n",
    " 'warm_start': [True, False],\n",
    " 'random_state': [42]\n",
    "}\n",
    "\n",
    "lr_param_random = {'C': scipy.stats.expon(scale=.01),\n",
    " 'fit_intercept': [True, False],\n",
    " 'warm_start': [True, False],\n",
    " 'random_state': [42]\n",
    "}\n",
    "\n",
    "best_lr_grid_searched_model = tune_hyperparameter('GridSearch', lr_model, lr_param_grid)\n",
    "best_lr_randomized_searched_lr_model = tune_hyperparameter('RandomSearch', lr_model, lr_param_random)"
   ]
  },
  {
   "cell_type": "markdown",
   "metadata": {},
   "source": [
    "# Model Evaluation using Test set\n"
   ]
  },
  {
   "cell_type": "markdown",
   "metadata": {},
   "source": [
    "First, download and load the test set:\n"
   ]
  },
  {
   "cell_type": "code",
   "execution_count": 34,
   "metadata": {},
   "outputs": [
    {
     "name": "stdout",
     "output_type": "stream",
     "text": [
      "--2022-01-04 15:03:41--  https://s3-api.us-geo.objectstorage.softlayer.net/cf-courses-data/CognitiveClass/ML0101ENv3/labs/loan_test.csv\n",
      "Resolving s3-api.us-geo.objectstorage.softlayer.net (s3-api.us-geo.objectstorage.softlayer.net)... 67.228.254.196\n",
      "Connecting to s3-api.us-geo.objectstorage.softlayer.net (s3-api.us-geo.objectstorage.softlayer.net)|67.228.254.196|:443... connected.\n",
      "HTTP request sent, awaiting response... 200 OK\n",
      "Length: 3642 (3.6K) [text/csv]\n",
      "Saving to: ‘loan_test.csv’\n",
      "\n",
      "loan_test.csv       100%[===================>]   3.56K  --.-KB/s    in 0s      \n",
      "\n",
      "2022-01-04 15:03:42 (96.9 MB/s) - ‘loan_test.csv’ saved [3642/3642]\n",
      "\n"
     ]
    }
   ],
   "source": [
    "!wget -O loan_test.csv https://s3-api.us-geo.objectstorage.softlayer.net/cf-courses-data/CognitiveClass/ML0101ENv3/labs/loan_test.csv"
   ]
  },
  {
   "cell_type": "markdown",
   "metadata": {
    "button": false,
    "new_sheet": false,
    "run_control": {
     "read_only": false
    }
   },
   "source": [
    "### Load Test set for evaluation\n"
   ]
  },
  {
   "cell_type": "code",
   "execution_count": 35,
   "metadata": {
    "button": false,
    "new_sheet": false,
    "run_control": {
     "read_only": false
    },
    "scrolled": true
   },
   "outputs": [
    {
     "data": {
      "text/html": [
       "<div>\n",
       "<style scoped>\n",
       "    .dataframe tbody tr th:only-of-type {\n",
       "        vertical-align: middle;\n",
       "    }\n",
       "\n",
       "    .dataframe tbody tr th {\n",
       "        vertical-align: top;\n",
       "    }\n",
       "\n",
       "    .dataframe thead th {\n",
       "        text-align: right;\n",
       "    }\n",
       "</style>\n",
       "<table border=\"1\" class=\"dataframe\">\n",
       "  <thead>\n",
       "    <tr style=\"text-align: right;\">\n",
       "      <th></th>\n",
       "      <th>Unnamed: 0</th>\n",
       "      <th>Unnamed: 0.1</th>\n",
       "      <th>loan_status</th>\n",
       "      <th>Principal</th>\n",
       "      <th>terms</th>\n",
       "      <th>effective_date</th>\n",
       "      <th>due_date</th>\n",
       "      <th>age</th>\n",
       "      <th>education</th>\n",
       "      <th>Gender</th>\n",
       "    </tr>\n",
       "  </thead>\n",
       "  <tbody>\n",
       "    <tr>\n",
       "      <th>0</th>\n",
       "      <td>1</td>\n",
       "      <td>1</td>\n",
       "      <td>PAIDOFF</td>\n",
       "      <td>1000</td>\n",
       "      <td>30</td>\n",
       "      <td>9/8/2016</td>\n",
       "      <td>10/7/2016</td>\n",
       "      <td>50</td>\n",
       "      <td>Bechalor</td>\n",
       "      <td>female</td>\n",
       "    </tr>\n",
       "    <tr>\n",
       "      <th>1</th>\n",
       "      <td>5</td>\n",
       "      <td>5</td>\n",
       "      <td>PAIDOFF</td>\n",
       "      <td>300</td>\n",
       "      <td>7</td>\n",
       "      <td>9/9/2016</td>\n",
       "      <td>9/15/2016</td>\n",
       "      <td>35</td>\n",
       "      <td>Master or Above</td>\n",
       "      <td>male</td>\n",
       "    </tr>\n",
       "    <tr>\n",
       "      <th>2</th>\n",
       "      <td>21</td>\n",
       "      <td>21</td>\n",
       "      <td>PAIDOFF</td>\n",
       "      <td>1000</td>\n",
       "      <td>30</td>\n",
       "      <td>9/10/2016</td>\n",
       "      <td>10/9/2016</td>\n",
       "      <td>43</td>\n",
       "      <td>High School or Below</td>\n",
       "      <td>female</td>\n",
       "    </tr>\n",
       "    <tr>\n",
       "      <th>3</th>\n",
       "      <td>24</td>\n",
       "      <td>24</td>\n",
       "      <td>PAIDOFF</td>\n",
       "      <td>1000</td>\n",
       "      <td>30</td>\n",
       "      <td>9/10/2016</td>\n",
       "      <td>10/9/2016</td>\n",
       "      <td>26</td>\n",
       "      <td>college</td>\n",
       "      <td>male</td>\n",
       "    </tr>\n",
       "    <tr>\n",
       "      <th>4</th>\n",
       "      <td>35</td>\n",
       "      <td>35</td>\n",
       "      <td>PAIDOFF</td>\n",
       "      <td>800</td>\n",
       "      <td>15</td>\n",
       "      <td>9/11/2016</td>\n",
       "      <td>9/25/2016</td>\n",
       "      <td>29</td>\n",
       "      <td>Bechalor</td>\n",
       "      <td>male</td>\n",
       "    </tr>\n",
       "  </tbody>\n",
       "</table>\n",
       "</div>"
      ],
      "text/plain": [
       "   Unnamed: 0  Unnamed: 0.1 loan_status  Principal  terms effective_date  \\\n",
       "0           1             1     PAIDOFF       1000     30       9/8/2016   \n",
       "1           5             5     PAIDOFF        300      7       9/9/2016   \n",
       "2          21            21     PAIDOFF       1000     30      9/10/2016   \n",
       "3          24            24     PAIDOFF       1000     30      9/10/2016   \n",
       "4          35            35     PAIDOFF        800     15      9/11/2016   \n",
       "\n",
       "    due_date  age             education  Gender  \n",
       "0  10/7/2016   50              Bechalor  female  \n",
       "1  9/15/2016   35       Master or Above    male  \n",
       "2  10/9/2016   43  High School or Below  female  \n",
       "3  10/9/2016   26               college    male  \n",
       "4  9/25/2016   29              Bechalor    male  "
      ]
     },
     "execution_count": 35,
     "metadata": {},
     "output_type": "execute_result"
    }
   ],
   "source": [
    "test_df = pd.read_csv('loan_test.csv')\n",
    "test_df.head()"
   ]
  },
  {
   "cell_type": "markdown",
   "metadata": {},
   "source": [
    "## Preprocessing Test Dataset"
   ]
  },
  {
   "cell_type": "code",
   "execution_count": 36,
   "metadata": {},
   "outputs": [
    {
     "data": {
      "text/html": [
       "<div>\n",
       "<style scoped>\n",
       "    .dataframe tbody tr th:only-of-type {\n",
       "        vertical-align: middle;\n",
       "    }\n",
       "\n",
       "    .dataframe tbody tr th {\n",
       "        vertical-align: top;\n",
       "    }\n",
       "\n",
       "    .dataframe thead th {\n",
       "        text-align: right;\n",
       "    }\n",
       "</style>\n",
       "<table border=\"1\" class=\"dataframe\">\n",
       "  <thead>\n",
       "    <tr style=\"text-align: right;\">\n",
       "      <th></th>\n",
       "      <th>Unnamed: 0</th>\n",
       "      <th>Unnamed: 0.1</th>\n",
       "      <th>loan_status</th>\n",
       "      <th>Principal</th>\n",
       "      <th>terms</th>\n",
       "      <th>effective_date</th>\n",
       "      <th>due_date</th>\n",
       "      <th>age</th>\n",
       "      <th>education</th>\n",
       "      <th>Gender</th>\n",
       "    </tr>\n",
       "  </thead>\n",
       "  <tbody>\n",
       "    <tr>\n",
       "      <th>0</th>\n",
       "      <td>1</td>\n",
       "      <td>1</td>\n",
       "      <td>PAIDOFF</td>\n",
       "      <td>1000</td>\n",
       "      <td>30</td>\n",
       "      <td>9/8/2016</td>\n",
       "      <td>10/7/2016</td>\n",
       "      <td>50</td>\n",
       "      <td>Bechalor</td>\n",
       "      <td>female</td>\n",
       "    </tr>\n",
       "    <tr>\n",
       "      <th>1</th>\n",
       "      <td>5</td>\n",
       "      <td>5</td>\n",
       "      <td>PAIDOFF</td>\n",
       "      <td>300</td>\n",
       "      <td>7</td>\n",
       "      <td>9/9/2016</td>\n",
       "      <td>9/15/2016</td>\n",
       "      <td>35</td>\n",
       "      <td>Master or Above</td>\n",
       "      <td>male</td>\n",
       "    </tr>\n",
       "    <tr>\n",
       "      <th>2</th>\n",
       "      <td>21</td>\n",
       "      <td>21</td>\n",
       "      <td>PAIDOFF</td>\n",
       "      <td>1000</td>\n",
       "      <td>30</td>\n",
       "      <td>9/10/2016</td>\n",
       "      <td>10/9/2016</td>\n",
       "      <td>43</td>\n",
       "      <td>High School or Below</td>\n",
       "      <td>female</td>\n",
       "    </tr>\n",
       "    <tr>\n",
       "      <th>3</th>\n",
       "      <td>24</td>\n",
       "      <td>24</td>\n",
       "      <td>PAIDOFF</td>\n",
       "      <td>1000</td>\n",
       "      <td>30</td>\n",
       "      <td>9/10/2016</td>\n",
       "      <td>10/9/2016</td>\n",
       "      <td>26</td>\n",
       "      <td>college</td>\n",
       "      <td>male</td>\n",
       "    </tr>\n",
       "    <tr>\n",
       "      <th>4</th>\n",
       "      <td>35</td>\n",
       "      <td>35</td>\n",
       "      <td>PAIDOFF</td>\n",
       "      <td>800</td>\n",
       "      <td>15</td>\n",
       "      <td>9/11/2016</td>\n",
       "      <td>9/25/2016</td>\n",
       "      <td>29</td>\n",
       "      <td>Bechalor</td>\n",
       "      <td>male</td>\n",
       "    </tr>\n",
       "  </tbody>\n",
       "</table>\n",
       "</div>"
      ],
      "text/plain": [
       "   Unnamed: 0  Unnamed: 0.1 loan_status  Principal  terms effective_date  \\\n",
       "0           1             1     PAIDOFF       1000     30       9/8/2016   \n",
       "1           5             5     PAIDOFF        300      7       9/9/2016   \n",
       "2          21            21     PAIDOFF       1000     30      9/10/2016   \n",
       "3          24            24     PAIDOFF       1000     30      9/10/2016   \n",
       "4          35            35     PAIDOFF        800     15      9/11/2016   \n",
       "\n",
       "    due_date  age             education  Gender  \n",
       "0  10/7/2016   50              Bechalor  female  \n",
       "1  9/15/2016   35       Master or Above    male  \n",
       "2  10/9/2016   43  High School or Below  female  \n",
       "3  10/9/2016   26               college    male  \n",
       "4  9/25/2016   29              Bechalor    male  "
      ]
     },
     "execution_count": 36,
     "metadata": {},
     "output_type": "execute_result"
    }
   ],
   "source": [
    "X_test = test_df\n",
    "X_test[0:5]"
   ]
  },
  {
   "cell_type": "code",
   "execution_count": 37,
   "metadata": {},
   "outputs": [
    {
     "data": {
      "text/plain": [
       "array([[ 0.48268234,  0.86862188,  3.44897448,  2.87849167, -1.57795212,\n",
       "         3.2100386 , -0.78736122, -0.77142208],\n",
       "       [-6.57339679, -2.08691657,  0.79905319, -0.34740417,  0.63373279,\n",
       "        -0.31152273, -0.78736122, -0.77142208],\n",
       "       [ 0.48268234,  0.86862188,  2.21234455,  2.87849167,  0.63373279,\n",
       "        -0.31152273,  1.27006509, -0.77142208],\n",
       "       [ 0.48268234,  0.86862188, -0.79089959, -0.34740417,  0.63373279,\n",
       "        -0.31152273, -0.78736122,  1.29630721],\n",
       "       [-1.53334027, -1.0589032 , -0.26091533, -0.34740417,  0.63373279,\n",
       "         3.2100386 , -0.78736122, -0.77142208]])"
      ]
     },
     "execution_count": 37,
     "metadata": {},
     "output_type": "execute_result"
    }
   ],
   "source": [
    "## Preprocessing\n",
    "test_df['due_date'] = pd.to_datetime(test_df['due_date'])\n",
    "test_df['effective_date'] = pd.to_datetime(test_df['effective_date'])\n",
    "test_df['dayofweek'] = test_df['effective_date'].dt.dayofweek\n",
    "test_df['weekend'] = test_df['dayofweek'].apply(lambda x: 1 if (x>3)  else 0)\n",
    "test_df['Gender'].replace(to_replace=['male','female'], value=[0,1],inplace=True)\n",
    "test_Feature = test_df[['Principal','terms','age','Gender','weekend']]\n",
    "test_Feature = pd.concat([test_Feature,pd.get_dummies(test_df['education'])], axis=1)\n",
    "test_Feature.drop(['Master or Above'], axis = 1,inplace=True)\n",
    "\n",
    "# X_test = preprocessing.StandardScaler().fit(test_Feature).transform(test_Feature)\n",
    "X_test = scaler.transform(test_Feature) # StandardScaler, MinMaxScaler, RobustScaler, MaxAbsScaler\n",
    "X_test[0:5]"
   ]
  },
  {
   "cell_type": "code",
   "execution_count": 38,
   "metadata": {},
   "outputs": [
    {
     "data": {
      "text/plain": [
       "array(['PAIDOFF', 'PAIDOFF', 'PAIDOFF', 'PAIDOFF', 'PAIDOFF'],\n",
       "      dtype=object)"
      ]
     },
     "execution_count": 38,
     "metadata": {},
     "output_type": "execute_result"
    }
   ],
   "source": [
    "y_test = test_df['loan_status'].values\n",
    "y_test[0:5]"
   ]
  },
  {
   "cell_type": "code",
   "execution_count": 39,
   "metadata": {},
   "outputs": [
    {
     "data": {
      "text/plain": [
       "array([1, 1, 1, 1, 1, 1, 1, 1, 1, 1, 1, 1, 1, 1, 1, 1, 1, 1, 1, 1, 1, 1,\n",
       "       1, 1, 1, 1, 1, 1, 1, 1, 1, 1, 1, 1, 1, 1, 1, 1, 1, 1, 0, 0, 0, 0,\n",
       "       0, 0, 0, 0, 0, 0, 0, 0, 0, 0])"
      ]
     },
     "execution_count": 39,
     "metadata": {},
     "output_type": "execute_result"
    }
   ],
   "source": [
    "# Label Encoding\n",
    "\n",
    "y_test = le.fit_transform(y_test)\n",
    "y_test\n",
    "\n",
    "# 1 : paidoff, 0 : COLLECTION "
   ]
  },
  {
   "cell_type": "code",
   "execution_count": 40,
   "metadata": {},
   "outputs": [
    {
     "data": {
      "text/plain": [
       "PAIDOFF       40\n",
       "COLLECTION    14\n",
       "Name: loan_status, dtype: int64"
      ]
     },
     "execution_count": 40,
     "metadata": {},
     "output_type": "execute_result"
    }
   ],
   "source": [
    "test_df.loan_status.value_counts()"
   ]
  },
  {
   "cell_type": "code",
   "execution_count": 41,
   "metadata": {},
   "outputs": [],
   "source": [
    "# Init reporting DataFrame\n",
    "score_report_df = pd.DataFrame(columns=['Algorithm','Jaccard','F1-score','LogLoss'])"
   ]
  },
  {
   "cell_type": "code",
   "execution_count": 42,
   "metadata": {},
   "outputs": [
    {
     "name": "stdout",
     "output_type": "stream",
     "text": [
      "KNN model with 6 neighbors: jaccard_score : 0.625 , f1_score : 0.769\n",
      "KNN model with 6 neighbors tuned: jaccard_score : 0.638 , f1_score : 0.779\n"
     ]
    }
   ],
   "source": [
    "# Final score of kNN\n",
    "yhat_knn_6 = model_knn_6.predict(X_test)\n",
    "print(f\"KNN model with 6 neighbors: jaccard_score : {jaccard_score(y_test, yhat_knn_6):.3f} , f1_score : {f1_score(y_test, yhat_knn_6):.3f}\")\n",
    "\n",
    "\n",
    "yhat_best_knn_model = best_knn_grid_searched_model.predict(X_test)\n",
    "print(f\"KNN model with 6 neighbors tuned: jaccard_score : {jaccard_score(y_test, yhat_best_knn_model):.3f} , f1_score : {f1_score(y_test, yhat_best_knn_model):.3f}\")\n",
    "\n",
    "score_report_df.loc[0] =['KNN','{0:.3f}'.format(jaccard_score(y_test, yhat_best_knn_model)), '{0:.3f}'.format(f1_score(y_test, yhat_best_knn_model)), 'NA' ]"
   ]
  },
  {
   "cell_type": "code",
   "execution_count": 43,
   "metadata": {},
   "outputs": [
    {
     "name": "stdout",
     "output_type": "stream",
     "text": [
      "Decision Tree model tuned: jaccard_score : 0.660 , f1_score : 0.795\n"
     ]
    }
   ],
   "source": [
    "# Final score of Decision Tree\n",
    "yhat_dtree = best_dtree_grid_searched_model.predict(X_test)\n",
    "print(f\"Decision Tree model tuned: jaccard_score : {jaccard_score(y_test, yhat_dtree):.3f} , f1_score : {f1_score(y_test, yhat_dtree):.3f}\")\n",
    "\n",
    "score_report_df.loc[1] =['Decision Tree','{0:.3f}'.format(jaccard_score(y_test, yhat_dtree)), '{0:.3f}'.format(f1_score(y_test, yhat_dtree)), 'NA' ]"
   ]
  },
  {
   "cell_type": "code",
   "execution_count": 44,
   "metadata": {},
   "outputs": [
    {
     "name": "stdout",
     "output_type": "stream",
     "text": [
      "SVM model tuned: jaccard_score : 0.708 , f1_score : 0.829\n"
     ]
    }
   ],
   "source": [
    "# # Final score of SVM\n",
    "yhat_svm = best_svm_grid_searched_model.predict(X_test)\n",
    "print(f\"SVM model tuned: jaccard_score : {jaccard_score(y_test, yhat_svm):.3f} , f1_score : {f1_score(y_test, yhat_svm):.3f}\")\n",
    "\n",
    "score_report_df.loc[2] =['SVM','{0:.3f}'.format(jaccard_score(y_test, yhat_svm)), '{0:.3f}'.format(f1_score(y_test, yhat_svm)), 'NA' ]"
   ]
  },
  {
   "cell_type": "code",
   "execution_count": 45,
   "metadata": {},
   "outputs": [
    {
     "name": "stdout",
     "output_type": "stream",
     "text": [
      "Logistic Regression model tuned: jaccard_score : 0.583 , f1_score : 0.737, log_loss : 0.543\n"
     ]
    }
   ],
   "source": [
    "# Final score of Logistic Regression\n",
    "\n",
    "yhat_lr = best_lr_grid_searched_model.predict(X_test)\n",
    "yhat_lr_prob = best_lr_grid_searched_model.predict_proba(X_test)\n",
    "print(f\"Logistic Regression model tuned: jaccard_score : {jaccard_score(y_test, yhat_lr):.3f} , f1_score : {f1_score(y_test, yhat_lr):.3f}, log_loss : {log_loss(y_test, yhat_lr_prob):.3f}\")\n",
    "\n",
    "score_report_df.loc[3] =['LogisticRegression','{0:.3f}'.format(jaccard_score(y_test, yhat_lr)), '{0:.3f}'.format(f1_score(y_test, yhat_lr)), '{0:.3f}'.format(log_loss(y_test, yhat_lr_prob)) ]"
   ]
  },
  {
   "cell_type": "markdown",
   "metadata": {},
   "source": [
    "## Model Comparison Report"
   ]
  },
  {
   "cell_type": "code",
   "execution_count": 46,
   "metadata": {},
   "outputs": [
    {
     "data": {
      "text/html": [
       "<div>\n",
       "<style scoped>\n",
       "    .dataframe tbody tr th:only-of-type {\n",
       "        vertical-align: middle;\n",
       "    }\n",
       "\n",
       "    .dataframe tbody tr th {\n",
       "        vertical-align: top;\n",
       "    }\n",
       "\n",
       "    .dataframe thead th {\n",
       "        text-align: right;\n",
       "    }\n",
       "</style>\n",
       "<table border=\"1\" class=\"dataframe\">\n",
       "  <thead>\n",
       "    <tr style=\"text-align: right;\">\n",
       "      <th></th>\n",
       "      <th>Algorithm</th>\n",
       "      <th>Jaccard</th>\n",
       "      <th>F1-score</th>\n",
       "      <th>LogLoss</th>\n",
       "    </tr>\n",
       "  </thead>\n",
       "  <tbody>\n",
       "    <tr>\n",
       "      <th>0</th>\n",
       "      <td>KNN</td>\n",
       "      <td>0.638</td>\n",
       "      <td>0.779</td>\n",
       "      <td>NA</td>\n",
       "    </tr>\n",
       "    <tr>\n",
       "      <th>1</th>\n",
       "      <td>Decision Tree</td>\n",
       "      <td>0.660</td>\n",
       "      <td>0.795</td>\n",
       "      <td>NA</td>\n",
       "    </tr>\n",
       "    <tr>\n",
       "      <th>2</th>\n",
       "      <td>SVM</td>\n",
       "      <td>0.708</td>\n",
       "      <td>0.829</td>\n",
       "      <td>NA</td>\n",
       "    </tr>\n",
       "    <tr>\n",
       "      <th>3</th>\n",
       "      <td>LogisticRegression</td>\n",
       "      <td>0.583</td>\n",
       "      <td>0.737</td>\n",
       "      <td>0.543</td>\n",
       "    </tr>\n",
       "  </tbody>\n",
       "</table>\n",
       "</div>"
      ],
      "text/plain": [
       "            Algorithm Jaccard F1-score LogLoss\n",
       "0                 KNN   0.638    0.779      NA\n",
       "1       Decision Tree   0.660    0.795      NA\n",
       "2                 SVM   0.708    0.829      NA\n",
       "3  LogisticRegression   0.583    0.737   0.543"
      ]
     },
     "execution_count": 46,
     "metadata": {},
     "output_type": "execute_result"
    }
   ],
   "source": [
    "score_report_df"
   ]
  },
  {
   "cell_type": "markdown",
   "metadata": {},
   "source": [
    "# Report\n",
    "\n",
    "You should be able to report the accuracy of the built model using different evaluation metrics:\n"
   ]
  },
  {
   "cell_type": "markdown",
   "metadata": {},
   "source": [
    "| Algorithm          | Jaccard | F1-score | LogLoss |\n",
    "| ------------------ | ------- | -------- | ------- |\n",
    "| KNN                | ?       | ?        | NA      |\n",
    "| Decision Tree      | ?       | ?        | NA      |\n",
    "| SVM                | ?       | ?        | NA      |\n",
    "| LogisticRegression | ?       | ?        | ?       |\n"
   ]
  },
  {
   "cell_type": "markdown",
   "metadata": {
    "button": false,
    "new_sheet": false,
    "run_control": {
     "read_only": false
    }
   },
   "source": [
    "<h2>Want to learn more?</h2>\n",
    "\n",
    "IBM SPSS Modeler is a comprehensive analytics platform that has many machine learning algorithms. It has been designed to bring predictive intelligence to decisions made by individuals, by groups, by systems – by your enterprise as a whole. A free trial is available through this course, available here: <a href=\"http://cocl.us/ML0101EN-SPSSModeler?utm_medium=Exinfluencer&utm_source=Exinfluencer&utm_content=000026UJ&utm_term=10006555&utm_id=NA-SkillsNetwork-Channel-SkillsNetworkCoursesIBMDeveloperSkillsNetworkML0101ENSkillsNetwork20718538-2021-01-01\">SPSS Modeler</a>\n",
    "\n",
    "Also, you can use Watson Studio to run these notebooks faster with bigger datasets. Watson Studio is IBM's leading cloud solution for data scientists, built by data scientists. With Jupyter notebooks, RStudio, Apache Spark and popular libraries pre-packaged in the cloud, Watson Studio enables data scientists to collaborate on their projects without having to install anything. Join the fast-growing community of Watson Studio users today with a free account at <a href=\"https://cocl.us/ML0101EN_DSX?utm_medium=Exinfluencer&utm_source=Exinfluencer&utm_content=000026UJ&utm_term=10006555&utm_id=NA-SkillsNetwork-Channel-SkillsNetworkCoursesIBMDeveloperSkillsNetworkML0101ENSkillsNetwork20718538-2021-01-01\">Watson Studio</a>\n",
    "\n",
    "<h3>Thanks for completing this lesson!</h3>\n",
    "\n",
    "<h4>Author:  <a href=\"https://ca.linkedin.com/in/saeedaghabozorgi?utm_medium=Exinfluencer&utm_source=Exinfluencer&utm_content=000026UJ&utm_term=10006555&utm_id=NA-SkillsNetwork-Channel-SkillsNetworkCoursesIBMDeveloperSkillsNetworkML0101ENSkillsNetwork20718538-2021-01-01?utm_medium=Exinfluencer&utm_source=Exinfluencer&utm_content=000026UJ&utm_term=10006555&utm_id=NA-SkillsNetwork-Channel-SkillsNetworkCoursesIBMDeveloperSkillsNetworkML0101ENSkillsNetwork20718538-2021-01-01\">Saeed Aghabozorgi</a></h4>\n",
    "<p><a href=\"https://ca.linkedin.com/in/saeedaghabozorgi\">Saeed Aghabozorgi</a>, PhD is a Data Scientist in IBM with a track record of developing enterprise level applications that substantially increases clients’ ability to turn data into actionable knowledge. He is a researcher in data mining field and expert in developing advanced analytic methods like machine learning and statistical modelling on large datasets.</p>\n",
    "\n",
    "<hr>\n",
    "\n",
    "## Change Log\n",
    "\n",
    "| Date (YYYY-MM-DD) | Version | Changed By    | Change Description                                                             |\n",
    "| ----------------- | ------- | ------------- | ------------------------------------------------------------------------------ |\n",
    "| 2020-10-27        | 2.1     | Lakshmi Holla | Made changes in import statement due to updates in version of  sklearn library |\n",
    "| 2020-08-27        | 2.0     | Malika Singla | Added lab to GitLab                                                            |\n",
    "\n",
    "<hr>\n",
    "\n",
    "## <h3 align=\"center\"> © IBM Corporation 2020. All rights reserved. <h3/>\n",
    "\n",
    "<p>\n"
   ]
  }
 ],
 "metadata": {
  "kernelspec": {
   "display_name": "Python 3.8",
   "language": "python",
   "name": "python3"
  },
  "language_info": {
   "codemirror_mode": {
    "name": "ipython",
    "version": 3
   },
   "file_extension": ".py",
   "mimetype": "text/x-python",
   "name": "python",
   "nbconvert_exporter": "python",
   "pygments_lexer": "ipython3",
   "version": "3.8.12"
  }
 },
 "nbformat": 4,
 "nbformat_minor": 2
}
